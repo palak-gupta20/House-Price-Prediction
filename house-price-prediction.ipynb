{
 "cells": [
  {
   "cell_type": "markdown",
   "id": "9e52b175",
   "metadata": {
    "papermill": {
     "duration": 0.034503,
     "end_time": "2021-12-27T01:21:46.013896",
     "exception": false,
     "start_time": "2021-12-27T01:21:45.979393",
     "status": "completed"
    },
    "tags": []
   },
   "source": [
    "**Predicting House Prices and evaluating variables**\n",
    "\n",
    "In this project, we will test out several supervised algorithms to accurately model house prices using data collected from Ames, Iowa. We will then choose the best candidate algorithm from preliminary results and further optimize this algorithm to best model the data. Our goal with this implementation is to construct a model that accurately predicts the price of the house.\n",
    "\n",
    "We'll be using the following names throughout the notebook-\n",
    "\n",
    "traindata = train dataset\n",
    "\n",
    "testdata = test dataset\n",
    "\n",
    "traindata_updated = Train data without SalePrice\n",
    "\n",
    "finaldataset = Test and train data appended together\n",
    "\n",
    "traindata_updated_ = Train Data after removing NULL values and working on skewness\n",
    "\n",
    "testdata_ = Test Data after removing NULL values and working on skewness\n",
    "\n",
    "X_train, X_test, y_train, y_test = Train and test data split with 80-20 from traindata\n",
    "\n",
    "predictions = Predicted data to be submitted\n"
   ]
  },
  {
   "cell_type": "markdown",
   "id": "979f586f",
   "metadata": {
    "papermill": {
     "duration": 0.031917,
     "end_time": "2021-12-27T01:21:46.081063",
     "exception": false,
     "start_time": "2021-12-27T01:21:46.049146",
     "status": "completed"
    },
    "tags": []
   },
   "source": [
    "**Exploring the data**\n",
    "\n",
    "Let's start with importing the necessary libaries, reading in the data, and checking out the dataset.\n",
    "\n",
    "Note that the last column from this dataset, 'SalePrice', will be our target label (to predict the price of the house). All other columns are features about each house in the database."
   ]
  },
  {
   "cell_type": "code",
   "execution_count": 1,
   "id": "0a359d3a",
   "metadata": {
    "execution": {
     "iopub.execute_input": "2021-12-27T01:21:46.159949Z",
     "iopub.status.busy": "2021-12-27T01:21:46.159228Z",
     "iopub.status.idle": "2021-12-27T01:21:47.465564Z",
     "shell.execute_reply": "2021-12-27T01:21:47.466138Z",
     "shell.execute_reply.started": "2021-12-27T01:13:16.10968Z"
    },
    "papermill": {
     "duration": 1.353997,
     "end_time": "2021-12-27T01:21:47.466494",
     "exception": false,
     "start_time": "2021-12-27T01:21:46.112497",
     "status": "completed"
    },
    "tags": []
   },
   "outputs": [
    {
     "name": "stdout",
     "output_type": "stream",
     "text": [
      "/kaggle/input/house-prices-advanced-regression-techniques/sample_submission.csv\n",
      "/kaggle/input/house-prices-advanced-regression-techniques/data_description.txt\n",
      "/kaggle/input/house-prices-advanced-regression-techniques/train.csv\n",
      "/kaggle/input/house-prices-advanced-regression-techniques/test.csv\n"
     ]
    },
    {
     "data": {
      "text/html": [
       "<div>\n",
       "<style scoped>\n",
       "    .dataframe tbody tr th:only-of-type {\n",
       "        vertical-align: middle;\n",
       "    }\n",
       "\n",
       "    .dataframe tbody tr th {\n",
       "        vertical-align: top;\n",
       "    }\n",
       "\n",
       "    .dataframe thead th {\n",
       "        text-align: right;\n",
       "    }\n",
       "</style>\n",
       "<table border=\"1\" class=\"dataframe\">\n",
       "  <thead>\n",
       "    <tr style=\"text-align: right;\">\n",
       "      <th></th>\n",
       "      <th>Id</th>\n",
       "      <th>MSSubClass</th>\n",
       "      <th>MSZoning</th>\n",
       "      <th>LotFrontage</th>\n",
       "      <th>LotArea</th>\n",
       "      <th>Street</th>\n",
       "      <th>Alley</th>\n",
       "      <th>LotShape</th>\n",
       "      <th>LandContour</th>\n",
       "      <th>Utilities</th>\n",
       "      <th>...</th>\n",
       "      <th>PoolArea</th>\n",
       "      <th>PoolQC</th>\n",
       "      <th>Fence</th>\n",
       "      <th>MiscFeature</th>\n",
       "      <th>MiscVal</th>\n",
       "      <th>MoSold</th>\n",
       "      <th>YrSold</th>\n",
       "      <th>SaleType</th>\n",
       "      <th>SaleCondition</th>\n",
       "      <th>SalePrice</th>\n",
       "    </tr>\n",
       "  </thead>\n",
       "  <tbody>\n",
       "    <tr>\n",
       "      <th>0</th>\n",
       "      <td>1</td>\n",
       "      <td>60</td>\n",
       "      <td>RL</td>\n",
       "      <td>65.0</td>\n",
       "      <td>8450</td>\n",
       "      <td>Pave</td>\n",
       "      <td>NaN</td>\n",
       "      <td>Reg</td>\n",
       "      <td>Lvl</td>\n",
       "      <td>AllPub</td>\n",
       "      <td>...</td>\n",
       "      <td>0</td>\n",
       "      <td>NaN</td>\n",
       "      <td>NaN</td>\n",
       "      <td>NaN</td>\n",
       "      <td>0</td>\n",
       "      <td>2</td>\n",
       "      <td>2008</td>\n",
       "      <td>WD</td>\n",
       "      <td>Normal</td>\n",
       "      <td>208500</td>\n",
       "    </tr>\n",
       "  </tbody>\n",
       "</table>\n",
       "<p>1 rows × 81 columns</p>\n",
       "</div>"
      ],
      "text/plain": [
       "   Id  MSSubClass MSZoning  LotFrontage  LotArea Street Alley LotShape  \\\n",
       "0   1          60       RL         65.0     8450   Pave   NaN      Reg   \n",
       "\n",
       "  LandContour Utilities  ... PoolArea PoolQC Fence MiscFeature MiscVal MoSold  \\\n",
       "0         Lvl    AllPub  ...        0    NaN   NaN         NaN       0      2   \n",
       "\n",
       "  YrSold  SaleType  SaleCondition  SalePrice  \n",
       "0   2008        WD         Normal     208500  \n",
       "\n",
       "[1 rows x 81 columns]"
      ]
     },
     "metadata": {},
     "output_type": "display_data"
    },
    {
     "data": {
      "text/html": [
       "<div>\n",
       "<style scoped>\n",
       "    .dataframe tbody tr th:only-of-type {\n",
       "        vertical-align: middle;\n",
       "    }\n",
       "\n",
       "    .dataframe tbody tr th {\n",
       "        vertical-align: top;\n",
       "    }\n",
       "\n",
       "    .dataframe thead th {\n",
       "        text-align: right;\n",
       "    }\n",
       "</style>\n",
       "<table border=\"1\" class=\"dataframe\">\n",
       "  <thead>\n",
       "    <tr style=\"text-align: right;\">\n",
       "      <th></th>\n",
       "      <th>Id</th>\n",
       "      <th>MSSubClass</th>\n",
       "      <th>MSZoning</th>\n",
       "      <th>LotFrontage</th>\n",
       "      <th>LotArea</th>\n",
       "      <th>Street</th>\n",
       "      <th>Alley</th>\n",
       "      <th>LotShape</th>\n",
       "      <th>LandContour</th>\n",
       "      <th>Utilities</th>\n",
       "      <th>...</th>\n",
       "      <th>ScreenPorch</th>\n",
       "      <th>PoolArea</th>\n",
       "      <th>PoolQC</th>\n",
       "      <th>Fence</th>\n",
       "      <th>MiscFeature</th>\n",
       "      <th>MiscVal</th>\n",
       "      <th>MoSold</th>\n",
       "      <th>YrSold</th>\n",
       "      <th>SaleType</th>\n",
       "      <th>SaleCondition</th>\n",
       "    </tr>\n",
       "  </thead>\n",
       "  <tbody>\n",
       "    <tr>\n",
       "      <th>0</th>\n",
       "      <td>1461</td>\n",
       "      <td>20</td>\n",
       "      <td>RH</td>\n",
       "      <td>80.0</td>\n",
       "      <td>11622</td>\n",
       "      <td>Pave</td>\n",
       "      <td>NaN</td>\n",
       "      <td>Reg</td>\n",
       "      <td>Lvl</td>\n",
       "      <td>AllPub</td>\n",
       "      <td>...</td>\n",
       "      <td>120</td>\n",
       "      <td>0</td>\n",
       "      <td>NaN</td>\n",
       "      <td>MnPrv</td>\n",
       "      <td>NaN</td>\n",
       "      <td>0</td>\n",
       "      <td>6</td>\n",
       "      <td>2010</td>\n",
       "      <td>WD</td>\n",
       "      <td>Normal</td>\n",
       "    </tr>\n",
       "  </tbody>\n",
       "</table>\n",
       "<p>1 rows × 80 columns</p>\n",
       "</div>"
      ],
      "text/plain": [
       "     Id  MSSubClass MSZoning  LotFrontage  LotArea Street Alley LotShape  \\\n",
       "0  1461          20       RH         80.0    11622   Pave   NaN      Reg   \n",
       "\n",
       "  LandContour Utilities  ... ScreenPorch PoolArea PoolQC  Fence MiscFeature  \\\n",
       "0         Lvl    AllPub  ...         120        0    NaN  MnPrv         NaN   \n",
       "\n",
       "  MiscVal MoSold  YrSold  SaleType  SaleCondition  \n",
       "0       0      6    2010        WD         Normal  \n",
       "\n",
       "[1 rows x 80 columns]"
      ]
     },
     "metadata": {},
     "output_type": "display_data"
    }
   ],
   "source": [
    "import numpy as np # linear algebra\n",
    "import pandas as pd # data processing, CSV file I/O (e.g. pd.read_csv)\n",
    "from IPython.display import display # Allows the use of display() for DataFrames\n",
    "from scipy.stats import skew #To check for skewness\n",
    "\n",
    "# Import visualisation libraries\n",
    "import seaborn as sns\n",
    "import matplotlib.pyplot as plt\n",
    "\n",
    "# Pretty display for notebooks\n",
    "%matplotlib inline\n",
    "\n",
    "import os\n",
    "for dirname, _, filenames in os.walk('/kaggle/input'):\n",
    "    for filename in filenames:\n",
    "        print(os.path.join(dirname, filename))\n",
    "        \n",
    "#Let's load our data\n",
    "traindata = pd.read_csv('/kaggle/input/house-prices-advanced-regression-techniques/train.csv')\n",
    "testdata = pd.read_csv('/kaggle/input/house-prices-advanced-regression-techniques/test.csv')\n",
    "\n",
    "# Success - Display the first record of training data\n",
    "display(traindata.head(n=1))\n",
    "display(testdata.head(n=1))"
   ]
  },
  {
   "cell_type": "code",
   "execution_count": 2,
   "id": "b8077ead",
   "metadata": {
    "execution": {
     "iopub.execute_input": "2021-12-27T01:21:47.540459Z",
     "iopub.status.busy": "2021-12-27T01:21:47.539599Z",
     "iopub.status.idle": "2021-12-27T01:21:47.594979Z",
     "shell.execute_reply": "2021-12-27T01:21:47.594337Z",
     "shell.execute_reply.started": "2021-12-27T01:13:17.175822Z"
    },
    "papermill": {
     "duration": 0.094576,
     "end_time": "2021-12-27T01:21:47.595159",
     "exception": false,
     "start_time": "2021-12-27T01:21:47.500583",
     "status": "completed"
    },
    "tags": []
   },
   "outputs": [
    {
     "name": "stdout",
     "output_type": "stream",
     "text": [
      "<class 'pandas.core.frame.DataFrame'>\n",
      "RangeIndex: 1460 entries, 0 to 1459\n",
      "Data columns (total 81 columns):\n",
      " #   Column         Non-Null Count  Dtype  \n",
      "---  ------         --------------  -----  \n",
      " 0   Id             1460 non-null   int64  \n",
      " 1   MSSubClass     1460 non-null   int64  \n",
      " 2   MSZoning       1460 non-null   object \n",
      " 3   LotFrontage    1201 non-null   float64\n",
      " 4   LotArea        1460 non-null   int64  \n",
      " 5   Street         1460 non-null   object \n",
      " 6   Alley          91 non-null     object \n",
      " 7   LotShape       1460 non-null   object \n",
      " 8   LandContour    1460 non-null   object \n",
      " 9   Utilities      1460 non-null   object \n",
      " 10  LotConfig      1460 non-null   object \n",
      " 11  LandSlope      1460 non-null   object \n",
      " 12  Neighborhood   1460 non-null   object \n",
      " 13  Condition1     1460 non-null   object \n",
      " 14  Condition2     1460 non-null   object \n",
      " 15  BldgType       1460 non-null   object \n",
      " 16  HouseStyle     1460 non-null   object \n",
      " 17  OverallQual    1460 non-null   int64  \n",
      " 18  OverallCond    1460 non-null   int64  \n",
      " 19  YearBuilt      1460 non-null   int64  \n",
      " 20  YearRemodAdd   1460 non-null   int64  \n",
      " 21  RoofStyle      1460 non-null   object \n",
      " 22  RoofMatl       1460 non-null   object \n",
      " 23  Exterior1st    1460 non-null   object \n",
      " 24  Exterior2nd    1460 non-null   object \n",
      " 25  MasVnrType     1452 non-null   object \n",
      " 26  MasVnrArea     1452 non-null   float64\n",
      " 27  ExterQual      1460 non-null   object \n",
      " 28  ExterCond      1460 non-null   object \n",
      " 29  Foundation     1460 non-null   object \n",
      " 30  BsmtQual       1423 non-null   object \n",
      " 31  BsmtCond       1423 non-null   object \n",
      " 32  BsmtExposure   1422 non-null   object \n",
      " 33  BsmtFinType1   1423 non-null   object \n",
      " 34  BsmtFinSF1     1460 non-null   int64  \n",
      " 35  BsmtFinType2   1422 non-null   object \n",
      " 36  BsmtFinSF2     1460 non-null   int64  \n",
      " 37  BsmtUnfSF      1460 non-null   int64  \n",
      " 38  TotalBsmtSF    1460 non-null   int64  \n",
      " 39  Heating        1460 non-null   object \n",
      " 40  HeatingQC      1460 non-null   object \n",
      " 41  CentralAir     1460 non-null   object \n",
      " 42  Electrical     1459 non-null   object \n",
      " 43  1stFlrSF       1460 non-null   int64  \n",
      " 44  2ndFlrSF       1460 non-null   int64  \n",
      " 45  LowQualFinSF   1460 non-null   int64  \n",
      " 46  GrLivArea      1460 non-null   int64  \n",
      " 47  BsmtFullBath   1460 non-null   int64  \n",
      " 48  BsmtHalfBath   1460 non-null   int64  \n",
      " 49  FullBath       1460 non-null   int64  \n",
      " 50  HalfBath       1460 non-null   int64  \n",
      " 51  BedroomAbvGr   1460 non-null   int64  \n",
      " 52  KitchenAbvGr   1460 non-null   int64  \n",
      " 53  KitchenQual    1460 non-null   object \n",
      " 54  TotRmsAbvGrd   1460 non-null   int64  \n",
      " 55  Functional     1460 non-null   object \n",
      " 56  Fireplaces     1460 non-null   int64  \n",
      " 57  FireplaceQu    770 non-null    object \n",
      " 58  GarageType     1379 non-null   object \n",
      " 59  GarageYrBlt    1379 non-null   float64\n",
      " 60  GarageFinish   1379 non-null   object \n",
      " 61  GarageCars     1460 non-null   int64  \n",
      " 62  GarageArea     1460 non-null   int64  \n",
      " 63  GarageQual     1379 non-null   object \n",
      " 64  GarageCond     1379 non-null   object \n",
      " 65  PavedDrive     1460 non-null   object \n",
      " 66  WoodDeckSF     1460 non-null   int64  \n",
      " 67  OpenPorchSF    1460 non-null   int64  \n",
      " 68  EnclosedPorch  1460 non-null   int64  \n",
      " 69  3SsnPorch      1460 non-null   int64  \n",
      " 70  ScreenPorch    1460 non-null   int64  \n",
      " 71  PoolArea       1460 non-null   int64  \n",
      " 72  PoolQC         7 non-null      object \n",
      " 73  Fence          281 non-null    object \n",
      " 74  MiscFeature    54 non-null     object \n",
      " 75  MiscVal        1460 non-null   int64  \n",
      " 76  MoSold         1460 non-null   int64  \n",
      " 77  YrSold         1460 non-null   int64  \n",
      " 78  SaleType       1460 non-null   object \n",
      " 79  SaleCondition  1460 non-null   object \n",
      " 80  SalePrice      1460 non-null   int64  \n",
      "dtypes: float64(3), int64(35), object(43)\n",
      "memory usage: 924.0+ KB\n",
      "<class 'pandas.core.frame.DataFrame'>\n",
      "RangeIndex: 1459 entries, 0 to 1458\n",
      "Data columns (total 80 columns):\n",
      " #   Column         Non-Null Count  Dtype  \n",
      "---  ------         --------------  -----  \n",
      " 0   Id             1459 non-null   int64  \n",
      " 1   MSSubClass     1459 non-null   int64  \n",
      " 2   MSZoning       1455 non-null   object \n",
      " 3   LotFrontage    1232 non-null   float64\n",
      " 4   LotArea        1459 non-null   int64  \n",
      " 5   Street         1459 non-null   object \n",
      " 6   Alley          107 non-null    object \n",
      " 7   LotShape       1459 non-null   object \n",
      " 8   LandContour    1459 non-null   object \n",
      " 9   Utilities      1457 non-null   object \n",
      " 10  LotConfig      1459 non-null   object \n",
      " 11  LandSlope      1459 non-null   object \n",
      " 12  Neighborhood   1459 non-null   object \n",
      " 13  Condition1     1459 non-null   object \n",
      " 14  Condition2     1459 non-null   object \n",
      " 15  BldgType       1459 non-null   object \n",
      " 16  HouseStyle     1459 non-null   object \n",
      " 17  OverallQual    1459 non-null   int64  \n",
      " 18  OverallCond    1459 non-null   int64  \n",
      " 19  YearBuilt      1459 non-null   int64  \n",
      " 20  YearRemodAdd   1459 non-null   int64  \n",
      " 21  RoofStyle      1459 non-null   object \n",
      " 22  RoofMatl       1459 non-null   object \n",
      " 23  Exterior1st    1458 non-null   object \n",
      " 24  Exterior2nd    1458 non-null   object \n",
      " 25  MasVnrType     1443 non-null   object \n",
      " 26  MasVnrArea     1444 non-null   float64\n",
      " 27  ExterQual      1459 non-null   object \n",
      " 28  ExterCond      1459 non-null   object \n",
      " 29  Foundation     1459 non-null   object \n",
      " 30  BsmtQual       1415 non-null   object \n",
      " 31  BsmtCond       1414 non-null   object \n",
      " 32  BsmtExposure   1415 non-null   object \n",
      " 33  BsmtFinType1   1417 non-null   object \n",
      " 34  BsmtFinSF1     1458 non-null   float64\n",
      " 35  BsmtFinType2   1417 non-null   object \n",
      " 36  BsmtFinSF2     1458 non-null   float64\n",
      " 37  BsmtUnfSF      1458 non-null   float64\n",
      " 38  TotalBsmtSF    1458 non-null   float64\n",
      " 39  Heating        1459 non-null   object \n",
      " 40  HeatingQC      1459 non-null   object \n",
      " 41  CentralAir     1459 non-null   object \n",
      " 42  Electrical     1459 non-null   object \n",
      " 43  1stFlrSF       1459 non-null   int64  \n",
      " 44  2ndFlrSF       1459 non-null   int64  \n",
      " 45  LowQualFinSF   1459 non-null   int64  \n",
      " 46  GrLivArea      1459 non-null   int64  \n",
      " 47  BsmtFullBath   1457 non-null   float64\n",
      " 48  BsmtHalfBath   1457 non-null   float64\n",
      " 49  FullBath       1459 non-null   int64  \n",
      " 50  HalfBath       1459 non-null   int64  \n",
      " 51  BedroomAbvGr   1459 non-null   int64  \n",
      " 52  KitchenAbvGr   1459 non-null   int64  \n",
      " 53  KitchenQual    1458 non-null   object \n",
      " 54  TotRmsAbvGrd   1459 non-null   int64  \n",
      " 55  Functional     1457 non-null   object \n",
      " 56  Fireplaces     1459 non-null   int64  \n",
      " 57  FireplaceQu    729 non-null    object \n",
      " 58  GarageType     1383 non-null   object \n",
      " 59  GarageYrBlt    1381 non-null   float64\n",
      " 60  GarageFinish   1381 non-null   object \n",
      " 61  GarageCars     1458 non-null   float64\n",
      " 62  GarageArea     1458 non-null   float64\n",
      " 63  GarageQual     1381 non-null   object \n",
      " 64  GarageCond     1381 non-null   object \n",
      " 65  PavedDrive     1459 non-null   object \n",
      " 66  WoodDeckSF     1459 non-null   int64  \n",
      " 67  OpenPorchSF    1459 non-null   int64  \n",
      " 68  EnclosedPorch  1459 non-null   int64  \n",
      " 69  3SsnPorch      1459 non-null   int64  \n",
      " 70  ScreenPorch    1459 non-null   int64  \n",
      " 71  PoolArea       1459 non-null   int64  \n",
      " 72  PoolQC         3 non-null      object \n",
      " 73  Fence          290 non-null    object \n",
      " 74  MiscFeature    51 non-null     object \n",
      " 75  MiscVal        1459 non-null   int64  \n",
      " 76  MoSold         1459 non-null   int64  \n",
      " 77  YrSold         1459 non-null   int64  \n",
      " 78  SaleType       1458 non-null   object \n",
      " 79  SaleCondition  1459 non-null   object \n",
      "dtypes: float64(11), int64(26), object(43)\n",
      "memory usage: 912.0+ KB\n"
     ]
    }
   ],
   "source": [
    "traindata.shape, testdata.shape\n",
    "#Checking out the datatypes of the features\n",
    "traindata.info()\n",
    "testdata.info()"
   ]
  },
  {
   "cell_type": "markdown",
   "id": "a39178b8",
   "metadata": {
    "papermill": {
     "duration": 0.033521,
     "end_time": "2021-12-27T01:21:47.663295",
     "exception": false,
     "start_time": "2021-12-27T01:21:47.629774",
     "status": "completed"
    },
    "tags": []
   },
   "source": [
    "There are a total of 81 columns in the train data set. We also have a lot of null values as is visible."
   ]
  },
  {
   "cell_type": "markdown",
   "id": "1ac3b06a",
   "metadata": {
    "papermill": {
     "duration": 0.033545,
     "end_time": "2021-12-27T01:21:47.730786",
     "exception": false,
     "start_time": "2021-12-27T01:21:47.697241",
     "status": "completed"
    },
    "tags": []
   },
   "source": [
    "**Preparing the data**\n",
    "\n",
    "Before data can be used as input for machine learning algorithms, it often must be cleaned, formatted, and restructured — this is typically known as preprocessing. For this dataset, there are a lot of invalid or missing entries we must deal with. This preprocessing can help tremendously with the outcome and predictive power of nearly all learning algorithms."
   ]
  },
  {
   "cell_type": "code",
   "execution_count": 3,
   "id": "17104824",
   "metadata": {
    "execution": {
     "iopub.execute_input": "2021-12-27T01:21:47.809138Z",
     "iopub.status.busy": "2021-12-27T01:21:47.808081Z",
     "iopub.status.idle": "2021-12-27T01:21:47.982717Z",
     "shell.execute_reply": "2021-12-27T01:21:47.983277Z",
     "shell.execute_reply.started": "2021-12-27T01:13:17.227665Z"
    },
    "papermill": {
     "duration": 0.216737,
     "end_time": "2021-12-27T01:21:47.983497",
     "exception": false,
     "start_time": "2021-12-27T01:21:47.766760",
     "status": "completed"
    },
    "tags": []
   },
   "outputs": [
    {
     "data": {
      "text/html": [
       "<div>\n",
       "<style scoped>\n",
       "    .dataframe tbody tr th:only-of-type {\n",
       "        vertical-align: middle;\n",
       "    }\n",
       "\n",
       "    .dataframe tbody tr th {\n",
       "        vertical-align: top;\n",
       "    }\n",
       "\n",
       "    .dataframe thead th {\n",
       "        text-align: right;\n",
       "    }\n",
       "</style>\n",
       "<table border=\"1\" class=\"dataframe\">\n",
       "  <thead>\n",
       "    <tr style=\"text-align: right;\">\n",
       "      <th></th>\n",
       "      <th>Id</th>\n",
       "      <th>MSSubClass</th>\n",
       "      <th>MSZoning</th>\n",
       "      <th>LotFrontage</th>\n",
       "      <th>LotArea</th>\n",
       "      <th>Street</th>\n",
       "      <th>Alley</th>\n",
       "      <th>LotShape</th>\n",
       "      <th>LandContour</th>\n",
       "      <th>Utilities</th>\n",
       "      <th>...</th>\n",
       "      <th>PoolArea</th>\n",
       "      <th>PoolQC</th>\n",
       "      <th>Fence</th>\n",
       "      <th>MiscFeature</th>\n",
       "      <th>MiscVal</th>\n",
       "      <th>MoSold</th>\n",
       "      <th>YrSold</th>\n",
       "      <th>SaleType</th>\n",
       "      <th>SaleCondition</th>\n",
       "      <th>SalePrice</th>\n",
       "    </tr>\n",
       "  </thead>\n",
       "  <tbody>\n",
       "    <tr>\n",
       "      <th>count</th>\n",
       "      <td>1460.000000</td>\n",
       "      <td>1460.000000</td>\n",
       "      <td>1460</td>\n",
       "      <td>1201.000000</td>\n",
       "      <td>1460.000000</td>\n",
       "      <td>1460</td>\n",
       "      <td>91</td>\n",
       "      <td>1460</td>\n",
       "      <td>1460</td>\n",
       "      <td>1460</td>\n",
       "      <td>...</td>\n",
       "      <td>1460.000000</td>\n",
       "      <td>7</td>\n",
       "      <td>281</td>\n",
       "      <td>54</td>\n",
       "      <td>1460.000000</td>\n",
       "      <td>1460.000000</td>\n",
       "      <td>1460.000000</td>\n",
       "      <td>1460</td>\n",
       "      <td>1460</td>\n",
       "      <td>1460.000000</td>\n",
       "    </tr>\n",
       "    <tr>\n",
       "      <th>unique</th>\n",
       "      <td>NaN</td>\n",
       "      <td>NaN</td>\n",
       "      <td>5</td>\n",
       "      <td>NaN</td>\n",
       "      <td>NaN</td>\n",
       "      <td>2</td>\n",
       "      <td>2</td>\n",
       "      <td>4</td>\n",
       "      <td>4</td>\n",
       "      <td>2</td>\n",
       "      <td>...</td>\n",
       "      <td>NaN</td>\n",
       "      <td>3</td>\n",
       "      <td>4</td>\n",
       "      <td>4</td>\n",
       "      <td>NaN</td>\n",
       "      <td>NaN</td>\n",
       "      <td>NaN</td>\n",
       "      <td>9</td>\n",
       "      <td>6</td>\n",
       "      <td>NaN</td>\n",
       "    </tr>\n",
       "    <tr>\n",
       "      <th>top</th>\n",
       "      <td>NaN</td>\n",
       "      <td>NaN</td>\n",
       "      <td>RL</td>\n",
       "      <td>NaN</td>\n",
       "      <td>NaN</td>\n",
       "      <td>Pave</td>\n",
       "      <td>Grvl</td>\n",
       "      <td>Reg</td>\n",
       "      <td>Lvl</td>\n",
       "      <td>AllPub</td>\n",
       "      <td>...</td>\n",
       "      <td>NaN</td>\n",
       "      <td>Gd</td>\n",
       "      <td>MnPrv</td>\n",
       "      <td>Shed</td>\n",
       "      <td>NaN</td>\n",
       "      <td>NaN</td>\n",
       "      <td>NaN</td>\n",
       "      <td>WD</td>\n",
       "      <td>Normal</td>\n",
       "      <td>NaN</td>\n",
       "    </tr>\n",
       "    <tr>\n",
       "      <th>freq</th>\n",
       "      <td>NaN</td>\n",
       "      <td>NaN</td>\n",
       "      <td>1151</td>\n",
       "      <td>NaN</td>\n",
       "      <td>NaN</td>\n",
       "      <td>1454</td>\n",
       "      <td>50</td>\n",
       "      <td>925</td>\n",
       "      <td>1311</td>\n",
       "      <td>1459</td>\n",
       "      <td>...</td>\n",
       "      <td>NaN</td>\n",
       "      <td>3</td>\n",
       "      <td>157</td>\n",
       "      <td>49</td>\n",
       "      <td>NaN</td>\n",
       "      <td>NaN</td>\n",
       "      <td>NaN</td>\n",
       "      <td>1267</td>\n",
       "      <td>1198</td>\n",
       "      <td>NaN</td>\n",
       "    </tr>\n",
       "    <tr>\n",
       "      <th>mean</th>\n",
       "      <td>730.500000</td>\n",
       "      <td>56.897260</td>\n",
       "      <td>NaN</td>\n",
       "      <td>70.049958</td>\n",
       "      <td>10516.828082</td>\n",
       "      <td>NaN</td>\n",
       "      <td>NaN</td>\n",
       "      <td>NaN</td>\n",
       "      <td>NaN</td>\n",
       "      <td>NaN</td>\n",
       "      <td>...</td>\n",
       "      <td>2.758904</td>\n",
       "      <td>NaN</td>\n",
       "      <td>NaN</td>\n",
       "      <td>NaN</td>\n",
       "      <td>43.489041</td>\n",
       "      <td>6.321918</td>\n",
       "      <td>2007.815753</td>\n",
       "      <td>NaN</td>\n",
       "      <td>NaN</td>\n",
       "      <td>180921.195890</td>\n",
       "    </tr>\n",
       "    <tr>\n",
       "      <th>std</th>\n",
       "      <td>421.610009</td>\n",
       "      <td>42.300571</td>\n",
       "      <td>NaN</td>\n",
       "      <td>24.284752</td>\n",
       "      <td>9981.264932</td>\n",
       "      <td>NaN</td>\n",
       "      <td>NaN</td>\n",
       "      <td>NaN</td>\n",
       "      <td>NaN</td>\n",
       "      <td>NaN</td>\n",
       "      <td>...</td>\n",
       "      <td>40.177307</td>\n",
       "      <td>NaN</td>\n",
       "      <td>NaN</td>\n",
       "      <td>NaN</td>\n",
       "      <td>496.123024</td>\n",
       "      <td>2.703626</td>\n",
       "      <td>1.328095</td>\n",
       "      <td>NaN</td>\n",
       "      <td>NaN</td>\n",
       "      <td>79442.502883</td>\n",
       "    </tr>\n",
       "    <tr>\n",
       "      <th>min</th>\n",
       "      <td>1.000000</td>\n",
       "      <td>20.000000</td>\n",
       "      <td>NaN</td>\n",
       "      <td>21.000000</td>\n",
       "      <td>1300.000000</td>\n",
       "      <td>NaN</td>\n",
       "      <td>NaN</td>\n",
       "      <td>NaN</td>\n",
       "      <td>NaN</td>\n",
       "      <td>NaN</td>\n",
       "      <td>...</td>\n",
       "      <td>0.000000</td>\n",
       "      <td>NaN</td>\n",
       "      <td>NaN</td>\n",
       "      <td>NaN</td>\n",
       "      <td>0.000000</td>\n",
       "      <td>1.000000</td>\n",
       "      <td>2006.000000</td>\n",
       "      <td>NaN</td>\n",
       "      <td>NaN</td>\n",
       "      <td>34900.000000</td>\n",
       "    </tr>\n",
       "    <tr>\n",
       "      <th>25%</th>\n",
       "      <td>365.750000</td>\n",
       "      <td>20.000000</td>\n",
       "      <td>NaN</td>\n",
       "      <td>59.000000</td>\n",
       "      <td>7553.500000</td>\n",
       "      <td>NaN</td>\n",
       "      <td>NaN</td>\n",
       "      <td>NaN</td>\n",
       "      <td>NaN</td>\n",
       "      <td>NaN</td>\n",
       "      <td>...</td>\n",
       "      <td>0.000000</td>\n",
       "      <td>NaN</td>\n",
       "      <td>NaN</td>\n",
       "      <td>NaN</td>\n",
       "      <td>0.000000</td>\n",
       "      <td>5.000000</td>\n",
       "      <td>2007.000000</td>\n",
       "      <td>NaN</td>\n",
       "      <td>NaN</td>\n",
       "      <td>129975.000000</td>\n",
       "    </tr>\n",
       "    <tr>\n",
       "      <th>50%</th>\n",
       "      <td>730.500000</td>\n",
       "      <td>50.000000</td>\n",
       "      <td>NaN</td>\n",
       "      <td>69.000000</td>\n",
       "      <td>9478.500000</td>\n",
       "      <td>NaN</td>\n",
       "      <td>NaN</td>\n",
       "      <td>NaN</td>\n",
       "      <td>NaN</td>\n",
       "      <td>NaN</td>\n",
       "      <td>...</td>\n",
       "      <td>0.000000</td>\n",
       "      <td>NaN</td>\n",
       "      <td>NaN</td>\n",
       "      <td>NaN</td>\n",
       "      <td>0.000000</td>\n",
       "      <td>6.000000</td>\n",
       "      <td>2008.000000</td>\n",
       "      <td>NaN</td>\n",
       "      <td>NaN</td>\n",
       "      <td>163000.000000</td>\n",
       "    </tr>\n",
       "    <tr>\n",
       "      <th>75%</th>\n",
       "      <td>1095.250000</td>\n",
       "      <td>70.000000</td>\n",
       "      <td>NaN</td>\n",
       "      <td>80.000000</td>\n",
       "      <td>11601.500000</td>\n",
       "      <td>NaN</td>\n",
       "      <td>NaN</td>\n",
       "      <td>NaN</td>\n",
       "      <td>NaN</td>\n",
       "      <td>NaN</td>\n",
       "      <td>...</td>\n",
       "      <td>0.000000</td>\n",
       "      <td>NaN</td>\n",
       "      <td>NaN</td>\n",
       "      <td>NaN</td>\n",
       "      <td>0.000000</td>\n",
       "      <td>8.000000</td>\n",
       "      <td>2009.000000</td>\n",
       "      <td>NaN</td>\n",
       "      <td>NaN</td>\n",
       "      <td>214000.000000</td>\n",
       "    </tr>\n",
       "    <tr>\n",
       "      <th>max</th>\n",
       "      <td>1460.000000</td>\n",
       "      <td>190.000000</td>\n",
       "      <td>NaN</td>\n",
       "      <td>313.000000</td>\n",
       "      <td>215245.000000</td>\n",
       "      <td>NaN</td>\n",
       "      <td>NaN</td>\n",
       "      <td>NaN</td>\n",
       "      <td>NaN</td>\n",
       "      <td>NaN</td>\n",
       "      <td>...</td>\n",
       "      <td>738.000000</td>\n",
       "      <td>NaN</td>\n",
       "      <td>NaN</td>\n",
       "      <td>NaN</td>\n",
       "      <td>15500.000000</td>\n",
       "      <td>12.000000</td>\n",
       "      <td>2010.000000</td>\n",
       "      <td>NaN</td>\n",
       "      <td>NaN</td>\n",
       "      <td>755000.000000</td>\n",
       "    </tr>\n",
       "  </tbody>\n",
       "</table>\n",
       "<p>11 rows × 81 columns</p>\n",
       "</div>"
      ],
      "text/plain": [
       "                 Id   MSSubClass MSZoning  LotFrontage        LotArea Street  \\\n",
       "count   1460.000000  1460.000000     1460  1201.000000    1460.000000   1460   \n",
       "unique          NaN          NaN        5          NaN            NaN      2   \n",
       "top             NaN          NaN       RL          NaN            NaN   Pave   \n",
       "freq            NaN          NaN     1151          NaN            NaN   1454   \n",
       "mean     730.500000    56.897260      NaN    70.049958   10516.828082    NaN   \n",
       "std      421.610009    42.300571      NaN    24.284752    9981.264932    NaN   \n",
       "min        1.000000    20.000000      NaN    21.000000    1300.000000    NaN   \n",
       "25%      365.750000    20.000000      NaN    59.000000    7553.500000    NaN   \n",
       "50%      730.500000    50.000000      NaN    69.000000    9478.500000    NaN   \n",
       "75%     1095.250000    70.000000      NaN    80.000000   11601.500000    NaN   \n",
       "max     1460.000000   190.000000      NaN   313.000000  215245.000000    NaN   \n",
       "\n",
       "       Alley LotShape LandContour Utilities  ...     PoolArea PoolQC  Fence  \\\n",
       "count     91     1460        1460      1460  ...  1460.000000      7    281   \n",
       "unique     2        4           4         2  ...          NaN      3      4   \n",
       "top     Grvl      Reg         Lvl    AllPub  ...          NaN     Gd  MnPrv   \n",
       "freq      50      925        1311      1459  ...          NaN      3    157   \n",
       "mean     NaN      NaN         NaN       NaN  ...     2.758904    NaN    NaN   \n",
       "std      NaN      NaN         NaN       NaN  ...    40.177307    NaN    NaN   \n",
       "min      NaN      NaN         NaN       NaN  ...     0.000000    NaN    NaN   \n",
       "25%      NaN      NaN         NaN       NaN  ...     0.000000    NaN    NaN   \n",
       "50%      NaN      NaN         NaN       NaN  ...     0.000000    NaN    NaN   \n",
       "75%      NaN      NaN         NaN       NaN  ...     0.000000    NaN    NaN   \n",
       "max      NaN      NaN         NaN       NaN  ...   738.000000    NaN    NaN   \n",
       "\n",
       "       MiscFeature       MiscVal       MoSold       YrSold  SaleType  \\\n",
       "count           54   1460.000000  1460.000000  1460.000000      1460   \n",
       "unique           4           NaN          NaN          NaN         9   \n",
       "top           Shed           NaN          NaN          NaN        WD   \n",
       "freq            49           NaN          NaN          NaN      1267   \n",
       "mean           NaN     43.489041     6.321918  2007.815753       NaN   \n",
       "std            NaN    496.123024     2.703626     1.328095       NaN   \n",
       "min            NaN      0.000000     1.000000  2006.000000       NaN   \n",
       "25%            NaN      0.000000     5.000000  2007.000000       NaN   \n",
       "50%            NaN      0.000000     6.000000  2008.000000       NaN   \n",
       "75%            NaN      0.000000     8.000000  2009.000000       NaN   \n",
       "max            NaN  15500.000000    12.000000  2010.000000       NaN   \n",
       "\n",
       "        SaleCondition      SalePrice  \n",
       "count            1460    1460.000000  \n",
       "unique              6            NaN  \n",
       "top            Normal            NaN  \n",
       "freq             1198            NaN  \n",
       "mean              NaN  180921.195890  \n",
       "std               NaN   79442.502883  \n",
       "min               NaN   34900.000000  \n",
       "25%               NaN  129975.000000  \n",
       "50%               NaN  163000.000000  \n",
       "75%               NaN  214000.000000  \n",
       "max               NaN  755000.000000  \n",
       "\n",
       "[11 rows x 81 columns]"
      ]
     },
     "execution_count": 3,
     "metadata": {},
     "output_type": "execute_result"
    }
   ],
   "source": [
    "traindata.describe(include = \"all\")"
   ]
  },
  {
   "cell_type": "markdown",
   "id": "7f23027d",
   "metadata": {
    "papermill": {
     "duration": 0.035974,
     "end_time": "2021-12-27T01:21:48.055566",
     "exception": false,
     "start_time": "2021-12-27T01:21:48.019592",
     "status": "completed"
    },
    "tags": []
   },
   "source": [
    "Identifying and removing null values"
   ]
  },
  {
   "cell_type": "code",
   "execution_count": 4,
   "id": "238a064c",
   "metadata": {
    "execution": {
     "iopub.execute_input": "2021-12-27T01:21:48.146428Z",
     "iopub.status.busy": "2021-12-27T01:21:48.139267Z",
     "iopub.status.idle": "2021-12-27T01:21:48.177667Z",
     "shell.execute_reply": "2021-12-27T01:21:48.178202Z",
     "shell.execute_reply.started": "2021-12-27T01:13:17.396941Z"
    },
    "papermill": {
     "duration": 0.086172,
     "end_time": "2021-12-27T01:21:48.178406",
     "exception": false,
     "start_time": "2021-12-27T01:21:48.092234",
     "status": "completed"
    },
    "tags": []
   },
   "outputs": [
    {
     "data": {
      "text/html": [
       "<div>\n",
       "<style scoped>\n",
       "    .dataframe tbody tr th:only-of-type {\n",
       "        vertical-align: middle;\n",
       "    }\n",
       "\n",
       "    .dataframe tbody tr th {\n",
       "        vertical-align: top;\n",
       "    }\n",
       "\n",
       "    .dataframe thead th {\n",
       "        text-align: right;\n",
       "    }\n",
       "</style>\n",
       "<table border=\"1\" class=\"dataframe\">\n",
       "  <thead>\n",
       "    <tr style=\"text-align: right;\">\n",
       "      <th></th>\n",
       "      <th>Id</th>\n",
       "      <th>MSSubClass</th>\n",
       "      <th>MSZoning</th>\n",
       "      <th>LotFrontage</th>\n",
       "      <th>LotArea</th>\n",
       "      <th>Street</th>\n",
       "      <th>Alley</th>\n",
       "      <th>LotShape</th>\n",
       "      <th>LandContour</th>\n",
       "      <th>Utilities</th>\n",
       "      <th>...</th>\n",
       "      <th>ScreenPorch</th>\n",
       "      <th>PoolArea</th>\n",
       "      <th>PoolQC</th>\n",
       "      <th>Fence</th>\n",
       "      <th>MiscFeature</th>\n",
       "      <th>MiscVal</th>\n",
       "      <th>MoSold</th>\n",
       "      <th>YrSold</th>\n",
       "      <th>SaleType</th>\n",
       "      <th>SaleCondition</th>\n",
       "    </tr>\n",
       "  </thead>\n",
       "  <tbody>\n",
       "    <tr>\n",
       "      <th>0</th>\n",
       "      <td>False</td>\n",
       "      <td>False</td>\n",
       "      <td>False</td>\n",
       "      <td>False</td>\n",
       "      <td>False</td>\n",
       "      <td>False</td>\n",
       "      <td>True</td>\n",
       "      <td>False</td>\n",
       "      <td>False</td>\n",
       "      <td>False</td>\n",
       "      <td>...</td>\n",
       "      <td>False</td>\n",
       "      <td>False</td>\n",
       "      <td>True</td>\n",
       "      <td>False</td>\n",
       "      <td>True</td>\n",
       "      <td>False</td>\n",
       "      <td>False</td>\n",
       "      <td>False</td>\n",
       "      <td>False</td>\n",
       "      <td>False</td>\n",
       "    </tr>\n",
       "    <tr>\n",
       "      <th>1</th>\n",
       "      <td>False</td>\n",
       "      <td>False</td>\n",
       "      <td>False</td>\n",
       "      <td>False</td>\n",
       "      <td>False</td>\n",
       "      <td>False</td>\n",
       "      <td>True</td>\n",
       "      <td>False</td>\n",
       "      <td>False</td>\n",
       "      <td>False</td>\n",
       "      <td>...</td>\n",
       "      <td>False</td>\n",
       "      <td>False</td>\n",
       "      <td>True</td>\n",
       "      <td>True</td>\n",
       "      <td>False</td>\n",
       "      <td>False</td>\n",
       "      <td>False</td>\n",
       "      <td>False</td>\n",
       "      <td>False</td>\n",
       "      <td>False</td>\n",
       "    </tr>\n",
       "    <tr>\n",
       "      <th>2</th>\n",
       "      <td>False</td>\n",
       "      <td>False</td>\n",
       "      <td>False</td>\n",
       "      <td>False</td>\n",
       "      <td>False</td>\n",
       "      <td>False</td>\n",
       "      <td>True</td>\n",
       "      <td>False</td>\n",
       "      <td>False</td>\n",
       "      <td>False</td>\n",
       "      <td>...</td>\n",
       "      <td>False</td>\n",
       "      <td>False</td>\n",
       "      <td>True</td>\n",
       "      <td>False</td>\n",
       "      <td>True</td>\n",
       "      <td>False</td>\n",
       "      <td>False</td>\n",
       "      <td>False</td>\n",
       "      <td>False</td>\n",
       "      <td>False</td>\n",
       "    </tr>\n",
       "    <tr>\n",
       "      <th>3</th>\n",
       "      <td>False</td>\n",
       "      <td>False</td>\n",
       "      <td>False</td>\n",
       "      <td>False</td>\n",
       "      <td>False</td>\n",
       "      <td>False</td>\n",
       "      <td>True</td>\n",
       "      <td>False</td>\n",
       "      <td>False</td>\n",
       "      <td>False</td>\n",
       "      <td>...</td>\n",
       "      <td>False</td>\n",
       "      <td>False</td>\n",
       "      <td>True</td>\n",
       "      <td>True</td>\n",
       "      <td>True</td>\n",
       "      <td>False</td>\n",
       "      <td>False</td>\n",
       "      <td>False</td>\n",
       "      <td>False</td>\n",
       "      <td>False</td>\n",
       "    </tr>\n",
       "    <tr>\n",
       "      <th>4</th>\n",
       "      <td>False</td>\n",
       "      <td>False</td>\n",
       "      <td>False</td>\n",
       "      <td>False</td>\n",
       "      <td>False</td>\n",
       "      <td>False</td>\n",
       "      <td>True</td>\n",
       "      <td>False</td>\n",
       "      <td>False</td>\n",
       "      <td>False</td>\n",
       "      <td>...</td>\n",
       "      <td>False</td>\n",
       "      <td>False</td>\n",
       "      <td>True</td>\n",
       "      <td>True</td>\n",
       "      <td>True</td>\n",
       "      <td>False</td>\n",
       "      <td>False</td>\n",
       "      <td>False</td>\n",
       "      <td>False</td>\n",
       "      <td>False</td>\n",
       "    </tr>\n",
       "    <tr>\n",
       "      <th>...</th>\n",
       "      <td>...</td>\n",
       "      <td>...</td>\n",
       "      <td>...</td>\n",
       "      <td>...</td>\n",
       "      <td>...</td>\n",
       "      <td>...</td>\n",
       "      <td>...</td>\n",
       "      <td>...</td>\n",
       "      <td>...</td>\n",
       "      <td>...</td>\n",
       "      <td>...</td>\n",
       "      <td>...</td>\n",
       "      <td>...</td>\n",
       "      <td>...</td>\n",
       "      <td>...</td>\n",
       "      <td>...</td>\n",
       "      <td>...</td>\n",
       "      <td>...</td>\n",
       "      <td>...</td>\n",
       "      <td>...</td>\n",
       "      <td>...</td>\n",
       "    </tr>\n",
       "    <tr>\n",
       "      <th>1454</th>\n",
       "      <td>False</td>\n",
       "      <td>False</td>\n",
       "      <td>False</td>\n",
       "      <td>False</td>\n",
       "      <td>False</td>\n",
       "      <td>False</td>\n",
       "      <td>True</td>\n",
       "      <td>False</td>\n",
       "      <td>False</td>\n",
       "      <td>False</td>\n",
       "      <td>...</td>\n",
       "      <td>False</td>\n",
       "      <td>False</td>\n",
       "      <td>True</td>\n",
       "      <td>True</td>\n",
       "      <td>True</td>\n",
       "      <td>False</td>\n",
       "      <td>False</td>\n",
       "      <td>False</td>\n",
       "      <td>False</td>\n",
       "      <td>False</td>\n",
       "    </tr>\n",
       "    <tr>\n",
       "      <th>1455</th>\n",
       "      <td>False</td>\n",
       "      <td>False</td>\n",
       "      <td>False</td>\n",
       "      <td>False</td>\n",
       "      <td>False</td>\n",
       "      <td>False</td>\n",
       "      <td>True</td>\n",
       "      <td>False</td>\n",
       "      <td>False</td>\n",
       "      <td>False</td>\n",
       "      <td>...</td>\n",
       "      <td>False</td>\n",
       "      <td>False</td>\n",
       "      <td>True</td>\n",
       "      <td>True</td>\n",
       "      <td>True</td>\n",
       "      <td>False</td>\n",
       "      <td>False</td>\n",
       "      <td>False</td>\n",
       "      <td>False</td>\n",
       "      <td>False</td>\n",
       "    </tr>\n",
       "    <tr>\n",
       "      <th>1456</th>\n",
       "      <td>False</td>\n",
       "      <td>False</td>\n",
       "      <td>False</td>\n",
       "      <td>False</td>\n",
       "      <td>False</td>\n",
       "      <td>False</td>\n",
       "      <td>True</td>\n",
       "      <td>False</td>\n",
       "      <td>False</td>\n",
       "      <td>False</td>\n",
       "      <td>...</td>\n",
       "      <td>False</td>\n",
       "      <td>False</td>\n",
       "      <td>True</td>\n",
       "      <td>True</td>\n",
       "      <td>True</td>\n",
       "      <td>False</td>\n",
       "      <td>False</td>\n",
       "      <td>False</td>\n",
       "      <td>False</td>\n",
       "      <td>False</td>\n",
       "    </tr>\n",
       "    <tr>\n",
       "      <th>1457</th>\n",
       "      <td>False</td>\n",
       "      <td>False</td>\n",
       "      <td>False</td>\n",
       "      <td>False</td>\n",
       "      <td>False</td>\n",
       "      <td>False</td>\n",
       "      <td>True</td>\n",
       "      <td>False</td>\n",
       "      <td>False</td>\n",
       "      <td>False</td>\n",
       "      <td>...</td>\n",
       "      <td>False</td>\n",
       "      <td>False</td>\n",
       "      <td>True</td>\n",
       "      <td>False</td>\n",
       "      <td>False</td>\n",
       "      <td>False</td>\n",
       "      <td>False</td>\n",
       "      <td>False</td>\n",
       "      <td>False</td>\n",
       "      <td>False</td>\n",
       "    </tr>\n",
       "    <tr>\n",
       "      <th>1458</th>\n",
       "      <td>False</td>\n",
       "      <td>False</td>\n",
       "      <td>False</td>\n",
       "      <td>False</td>\n",
       "      <td>False</td>\n",
       "      <td>False</td>\n",
       "      <td>True</td>\n",
       "      <td>False</td>\n",
       "      <td>False</td>\n",
       "      <td>False</td>\n",
       "      <td>...</td>\n",
       "      <td>False</td>\n",
       "      <td>False</td>\n",
       "      <td>True</td>\n",
       "      <td>True</td>\n",
       "      <td>True</td>\n",
       "      <td>False</td>\n",
       "      <td>False</td>\n",
       "      <td>False</td>\n",
       "      <td>False</td>\n",
       "      <td>False</td>\n",
       "    </tr>\n",
       "  </tbody>\n",
       "</table>\n",
       "<p>1459 rows × 80 columns</p>\n",
       "</div>"
      ],
      "text/plain": [
       "         Id  MSSubClass  MSZoning  LotFrontage  LotArea  Street  Alley  \\\n",
       "0     False       False     False        False    False   False   True   \n",
       "1     False       False     False        False    False   False   True   \n",
       "2     False       False     False        False    False   False   True   \n",
       "3     False       False     False        False    False   False   True   \n",
       "4     False       False     False        False    False   False   True   \n",
       "...     ...         ...       ...          ...      ...     ...    ...   \n",
       "1454  False       False     False        False    False   False   True   \n",
       "1455  False       False     False        False    False   False   True   \n",
       "1456  False       False     False        False    False   False   True   \n",
       "1457  False       False     False        False    False   False   True   \n",
       "1458  False       False     False        False    False   False   True   \n",
       "\n",
       "      LotShape  LandContour  Utilities  ...  ScreenPorch  PoolArea  PoolQC  \\\n",
       "0        False        False      False  ...        False     False    True   \n",
       "1        False        False      False  ...        False     False    True   \n",
       "2        False        False      False  ...        False     False    True   \n",
       "3        False        False      False  ...        False     False    True   \n",
       "4        False        False      False  ...        False     False    True   \n",
       "...        ...          ...        ...  ...          ...       ...     ...   \n",
       "1454     False        False      False  ...        False     False    True   \n",
       "1455     False        False      False  ...        False     False    True   \n",
       "1456     False        False      False  ...        False     False    True   \n",
       "1457     False        False      False  ...        False     False    True   \n",
       "1458     False        False      False  ...        False     False    True   \n",
       "\n",
       "      Fence  MiscFeature  MiscVal  MoSold  YrSold  SaleType  SaleCondition  \n",
       "0     False         True    False   False   False     False          False  \n",
       "1      True        False    False   False   False     False          False  \n",
       "2     False         True    False   False   False     False          False  \n",
       "3      True         True    False   False   False     False          False  \n",
       "4      True         True    False   False   False     False          False  \n",
       "...     ...          ...      ...     ...     ...       ...            ...  \n",
       "1454   True         True    False   False   False     False          False  \n",
       "1455   True         True    False   False   False     False          False  \n",
       "1456   True         True    False   False   False     False          False  \n",
       "1457  False        False    False   False   False     False          False  \n",
       "1458   True         True    False   False   False     False          False  \n",
       "\n",
       "[1459 rows x 80 columns]"
      ]
     },
     "execution_count": 4,
     "metadata": {},
     "output_type": "execute_result"
    }
   ],
   "source": [
    "traindata.isnull()\n",
    "testdata.isnull()\n",
    "# True means null values"
   ]
  },
  {
   "cell_type": "code",
   "execution_count": 5,
   "id": "840b330c",
   "metadata": {
    "execution": {
     "iopub.execute_input": "2021-12-27T01:21:48.263538Z",
     "iopub.status.busy": "2021-12-27T01:21:48.262745Z",
     "iopub.status.idle": "2021-12-27T01:21:48.268517Z",
     "shell.execute_reply": "2021-12-27T01:21:48.269055Z",
     "shell.execute_reply.started": "2021-12-27T01:13:17.442267Z"
    },
    "papermill": {
     "duration": 0.054974,
     "end_time": "2021-12-27T01:21:48.269288",
     "exception": false,
     "start_time": "2021-12-27T01:21:48.214314",
     "status": "completed"
    },
    "tags": []
   },
   "outputs": [
    {
     "data": {
      "text/plain": [
       "6965"
      ]
     },
     "execution_count": 5,
     "metadata": {},
     "output_type": "execute_result"
    }
   ],
   "source": [
    "traindata.isnull().sum().sum()\n",
    "#To count how many missing values are there in the dataset in row as well as column"
   ]
  },
  {
   "cell_type": "code",
   "execution_count": 6,
   "id": "a9c21c93",
   "metadata": {
    "execution": {
     "iopub.execute_input": "2021-12-27T01:21:48.356839Z",
     "iopub.status.busy": "2021-12-27T01:21:48.356072Z",
     "iopub.status.idle": "2021-12-27T01:21:48.362133Z",
     "shell.execute_reply": "2021-12-27T01:21:48.361450Z",
     "shell.execute_reply.started": "2021-12-27T01:13:17.456172Z"
    },
    "papermill": {
     "duration": 0.054936,
     "end_time": "2021-12-27T01:21:48.362289",
     "exception": false,
     "start_time": "2021-12-27T01:21:48.307353",
     "status": "completed"
    },
    "tags": []
   },
   "outputs": [
    {
     "data": {
      "text/plain": [
       "7000"
      ]
     },
     "execution_count": 6,
     "metadata": {},
     "output_type": "execute_result"
    }
   ],
   "source": [
    "testdata.isnull().sum().sum()"
   ]
  },
  {
   "cell_type": "code",
   "execution_count": 7,
   "id": "516a4dd1",
   "metadata": {
    "execution": {
     "iopub.execute_input": "2021-12-27T01:21:48.439599Z",
     "iopub.status.busy": "2021-12-27T01:21:48.438979Z",
     "iopub.status.idle": "2021-12-27T01:21:48.482072Z",
     "shell.execute_reply": "2021-12-27T01:21:48.481472Z",
     "shell.execute_reply.started": "2021-12-27T01:13:17.476469Z"
    },
    "papermill": {
     "duration": 0.082534,
     "end_time": "2021-12-27T01:21:48.482246",
     "exception": false,
     "start_time": "2021-12-27T01:21:48.399712",
     "status": "completed"
    },
    "tags": []
   },
   "outputs": [
    {
     "data": {
      "text/plain": [
       "13965"
      ]
     },
     "execution_count": 7,
     "metadata": {},
     "output_type": "execute_result"
    }
   ],
   "source": [
    "# Split the data into features and target label\n",
    "SalePriceCheck = traindata.SalePrice\n",
    "traindata_updated = traindata.drop([\"SalePrice\"], axis = 1)\n",
    "traindata_updated[\"Type\"]= \"train\"\n",
    "testdata[\"Type\"]= \"test\"\n",
    "finaldataset = traindata_updated.append(testdata)\n",
    "finaldataset.isnull().sum().sum()"
   ]
  },
  {
   "cell_type": "code",
   "execution_count": 8,
   "id": "6bade983",
   "metadata": {
    "execution": {
     "iopub.execute_input": "2021-12-27T01:21:48.576868Z",
     "iopub.status.busy": "2021-12-27T01:21:48.576150Z",
     "iopub.status.idle": "2021-12-27T01:21:48.606619Z",
     "shell.execute_reply": "2021-12-27T01:21:48.607136Z",
     "shell.execute_reply.started": "2021-12-27T01:13:17.52012Z"
    },
    "papermill": {
     "duration": 0.088483,
     "end_time": "2021-12-27T01:21:48.607342",
     "exception": false,
     "start_time": "2021-12-27T01:21:48.518859",
     "status": "completed"
    },
    "tags": []
   },
   "outputs": [
    {
     "name": "stdout",
     "output_type": "stream",
     "text": [
      "     MSZoning  LotFrontage Alley Utilities Exterior1st Exterior2nd MasVnrType  \\\n",
      "0          RL         65.0   NaN    AllPub     VinylSd     VinylSd    BrkFace   \n",
      "1          RL         80.0   NaN    AllPub     MetalSd     MetalSd       None   \n",
      "2          RL         68.0   NaN    AllPub     VinylSd     VinylSd    BrkFace   \n",
      "3          RL         60.0   NaN    AllPub     Wd Sdng     Wd Shng       None   \n",
      "4          RL         84.0   NaN    AllPub     VinylSd     VinylSd    BrkFace   \n",
      "...       ...          ...   ...       ...         ...         ...        ...   \n",
      "1454       RM         21.0   NaN    AllPub     CemntBd     CmentBd       None   \n",
      "1455       RM         21.0   NaN    AllPub     CemntBd     CmentBd       None   \n",
      "1456       RL        160.0   NaN    AllPub     VinylSd     VinylSd       None   \n",
      "1457       RL         62.0   NaN    AllPub     HdBoard     Wd Shng       None   \n",
      "1458       RL         74.0   NaN    AllPub     HdBoard     HdBoard    BrkFace   \n",
      "\n",
      "      MasVnrArea BsmtQual BsmtCond  ... GarageYrBlt GarageFinish  GarageCars  \\\n",
      "0          196.0       Gd       TA  ...      2003.0          RFn         2.0   \n",
      "1            0.0       Gd       TA  ...      1976.0          RFn         2.0   \n",
      "2          162.0       Gd       TA  ...      2001.0          RFn         2.0   \n",
      "3            0.0       TA       Gd  ...      1998.0          Unf         3.0   \n",
      "4          350.0       Gd       TA  ...      2000.0          RFn         3.0   \n",
      "...          ...      ...      ...  ...         ...          ...         ...   \n",
      "1454         0.0       TA       TA  ...         NaN          NaN         0.0   \n",
      "1455         0.0       TA       TA  ...      1970.0          Unf         1.0   \n",
      "1456         0.0       TA       TA  ...      1960.0          Unf         2.0   \n",
      "1457         0.0       Gd       TA  ...         NaN          NaN         0.0   \n",
      "1458        94.0       Gd       TA  ...      1993.0          Fin         3.0   \n",
      "\n",
      "     GarageArea  GarageQual  GarageCond  PoolQC  Fence  MiscFeature  SaleType  \n",
      "0         548.0          TA          TA     NaN    NaN          NaN        WD  \n",
      "1         460.0          TA          TA     NaN    NaN          NaN        WD  \n",
      "2         608.0          TA          TA     NaN    NaN          NaN        WD  \n",
      "3         642.0          TA          TA     NaN    NaN          NaN        WD  \n",
      "4         836.0          TA          TA     NaN    NaN          NaN        WD  \n",
      "...         ...         ...         ...     ...    ...          ...       ...  \n",
      "1454        0.0         NaN         NaN     NaN    NaN          NaN        WD  \n",
      "1455      286.0          TA          TA     NaN    NaN          NaN        WD  \n",
      "1456      576.0          TA          TA     NaN    NaN          NaN        WD  \n",
      "1457        0.0         NaN         NaN     NaN  MnPrv         Shed        WD  \n",
      "1458      650.0          TA          TA     NaN    NaN          NaN        WD  \n",
      "\n",
      "[2919 rows x 34 columns]\n"
     ]
    }
   ],
   "source": [
    "null_column_values = finaldataset[finaldataset.columns[finaldataset.isnull().sum()>0]] #printing null values of all columns\n",
    "print(null_column_values)"
   ]
  },
  {
   "cell_type": "markdown",
   "id": "2e90b23d",
   "metadata": {
    "papermill": {
     "duration": 0.036862,
     "end_time": "2021-12-27T01:21:48.681390",
     "exception": false,
     "start_time": "2021-12-27T01:21:48.644528",
     "status": "completed"
    },
    "tags": []
   },
   "source": [
    "Total of 34 columns have NULL values."
   ]
  },
  {
   "cell_type": "code",
   "execution_count": 9,
   "id": "6fd2deaf",
   "metadata": {
    "execution": {
     "iopub.execute_input": "2021-12-27T01:21:48.775421Z",
     "iopub.status.busy": "2021-12-27T01:21:48.760955Z",
     "iopub.status.idle": "2021-12-27T01:21:48.781190Z",
     "shell.execute_reply": "2021-12-27T01:21:48.781679Z",
     "shell.execute_reply.started": "2021-12-27T01:13:17.572142Z"
    },
    "papermill": {
     "duration": 0.06326,
     "end_time": "2021-12-27T01:21:48.781927",
     "exception": false,
     "start_time": "2021-12-27T01:21:48.718667",
     "status": "completed"
    },
    "tags": []
   },
   "outputs": [
    {
     "name": "stdout",
     "output_type": "stream",
     "text": [
      "Index(['MSZoning', 'LotFrontage', 'Alley', 'Utilities', 'Exterior1st',\n",
      "       'Exterior2nd', 'MasVnrType', 'MasVnrArea', 'BsmtQual', 'BsmtCond',\n",
      "       'BsmtExposure', 'BsmtFinType1', 'BsmtFinSF1', 'BsmtFinType2',\n",
      "       'BsmtFinSF2', 'BsmtUnfSF', 'TotalBsmtSF', 'Electrical', 'BsmtFullBath',\n",
      "       'BsmtHalfBath', 'KitchenQual', 'Functional', 'FireplaceQu',\n",
      "       'GarageType', 'GarageYrBlt', 'GarageFinish', 'GarageCars', 'GarageArea',\n",
      "       'GarageQual', 'GarageCond', 'PoolQC', 'Fence', 'MiscFeature',\n",
      "       'SaleType'],\n",
      "      dtype='object')\n"
     ]
    }
   ],
   "source": [
    "null_columns = finaldataset.columns[finaldataset.isnull().sum()>0] #finding the columns with >0 null values\n",
    "print(null_columns)"
   ]
  },
  {
   "cell_type": "code",
   "execution_count": 10,
   "id": "5f80e236",
   "metadata": {
    "execution": {
     "iopub.execute_input": "2021-12-27T01:21:48.863575Z",
     "iopub.status.busy": "2021-12-27T01:21:48.862165Z",
     "iopub.status.idle": "2021-12-27T01:21:48.889915Z",
     "shell.execute_reply": "2021-12-27T01:21:48.889221Z",
     "shell.execute_reply.started": "2021-12-27T01:13:17.596424Z"
    },
    "papermill": {
     "duration": 0.069014,
     "end_time": "2021-12-27T01:21:48.890095",
     "exception": false,
     "start_time": "2021-12-27T01:21:48.821081",
     "status": "completed"
    },
    "tags": []
   },
   "outputs": [],
   "source": [
    "finaldataset.bfill(inplace=True)"
   ]
  },
  {
   "cell_type": "code",
   "execution_count": 11,
   "id": "6ec2c34f",
   "metadata": {
    "execution": {
     "iopub.execute_input": "2021-12-27T01:21:48.969768Z",
     "iopub.status.busy": "2021-12-27T01:21:48.969142Z",
     "iopub.status.idle": "2021-12-27T01:21:48.995834Z",
     "shell.execute_reply": "2021-12-27T01:21:48.996375Z",
     "shell.execute_reply.started": "2021-12-27T01:13:17.623843Z"
    },
    "papermill": {
     "duration": 0.068144,
     "end_time": "2021-12-27T01:21:48.996581",
     "exception": false,
     "start_time": "2021-12-27T01:21:48.928437",
     "status": "completed"
    },
    "tags": []
   },
   "outputs": [
    {
     "data": {
      "text/plain": [
       "257"
      ]
     },
     "execution_count": 11,
     "metadata": {},
     "output_type": "execute_result"
    }
   ],
   "source": [
    "finaldataset.isnull().sum().sum()"
   ]
  },
  {
   "cell_type": "code",
   "execution_count": 12,
   "id": "7692d0d5",
   "metadata": {
    "execution": {
     "iopub.execute_input": "2021-12-27T01:21:49.077976Z",
     "iopub.status.busy": "2021-12-27T01:21:49.077173Z",
     "iopub.status.idle": "2021-12-27T01:21:49.105714Z",
     "shell.execute_reply": "2021-12-27T01:21:49.104877Z",
     "shell.execute_reply.started": "2021-12-27T01:13:17.653197Z"
    },
    "papermill": {
     "duration": 0.070644,
     "end_time": "2021-12-27T01:21:49.105908",
     "exception": false,
     "start_time": "2021-12-27T01:21:49.035264",
     "status": "completed"
    },
    "tags": []
   },
   "outputs": [
    {
     "name": "stdout",
     "output_type": "stream",
     "text": [
      "Index(['Alley', 'PoolQC', 'Fence', 'MiscFeature'], dtype='object')\n"
     ]
    }
   ],
   "source": [
    "null_columns = finaldataset.columns[finaldataset.isnull().sum()>0]\n",
    "print(null_columns)"
   ]
  },
  {
   "cell_type": "markdown",
   "id": "94ce0a04",
   "metadata": {
    "papermill": {
     "duration": 0.03783,
     "end_time": "2021-12-27T01:21:49.182854",
     "exception": false,
     "start_time": "2021-12-27T01:21:49.145024",
     "status": "completed"
    },
    "tags": []
   },
   "source": [
    "We saw that bfill didn't remove Null values from 4 columns - Alley, PoolQC, Fence, MiscFeature. The total remaining values are 257. That's why we have to use a different approach to remove the null values"
   ]
  },
  {
   "cell_type": "code",
   "execution_count": 13,
   "id": "5f38a5fe",
   "metadata": {
    "execution": {
     "iopub.execute_input": "2021-12-27T01:21:49.273586Z",
     "iopub.status.busy": "2021-12-27T01:21:49.265614Z",
     "iopub.status.idle": "2021-12-27T01:21:49.276407Z",
     "shell.execute_reply": "2021-12-27T01:21:49.275750Z",
     "shell.execute_reply.started": "2021-12-27T01:13:17.682291Z"
    },
    "papermill": {
     "duration": 0.055528,
     "end_time": "2021-12-27T01:21:49.276588",
     "exception": false,
     "start_time": "2021-12-27T01:21:49.221060",
     "status": "completed"
    },
    "tags": []
   },
   "outputs": [],
   "source": [
    "m = finaldataset[\"Alley\"].mode()[0]\n",
    "finaldataset[\"Alley\"].fillna(m,inplace=True)\n",
    "n = finaldataset[\"PoolQC\"].mode()[0]\n",
    "finaldataset[\"PoolQC\"].fillna(n,inplace=True)\n",
    "o = finaldataset[\"Fence\"].mode()[0]\n",
    "finaldataset[\"Fence\"].fillna(o,inplace=True)\n",
    "p = finaldataset[\"MiscFeature\"].mode()[0]\n",
    "finaldataset[\"MiscFeature\"].fillna(p,inplace=True)"
   ]
  },
  {
   "cell_type": "code",
   "execution_count": 14,
   "id": "8e48e69f",
   "metadata": {
    "execution": {
     "iopub.execute_input": "2021-12-27T01:21:49.357845Z",
     "iopub.status.busy": "2021-12-27T01:21:49.356593Z",
     "iopub.status.idle": "2021-12-27T01:21:49.383817Z",
     "shell.execute_reply": "2021-12-27T01:21:49.384314Z",
     "shell.execute_reply.started": "2021-12-27T01:13:17.69673Z"
    },
    "papermill": {
     "duration": 0.069868,
     "end_time": "2021-12-27T01:21:49.384530",
     "exception": false,
     "start_time": "2021-12-27T01:21:49.314662",
     "status": "completed"
    },
    "tags": []
   },
   "outputs": [
    {
     "data": {
      "text/plain": [
       "0"
      ]
     },
     "execution_count": 14,
     "metadata": {},
     "output_type": "execute_result"
    }
   ],
   "source": [
    "finaldataset.isnull().sum().sum()"
   ]
  },
  {
   "cell_type": "code",
   "execution_count": 15,
   "id": "c572d83d",
   "metadata": {
    "execution": {
     "iopub.execute_input": "2021-12-27T01:21:49.468516Z",
     "iopub.status.busy": "2021-12-27T01:21:49.466324Z",
     "iopub.status.idle": "2021-12-27T01:21:49.478140Z",
     "shell.execute_reply": "2021-12-27T01:21:49.478639Z",
     "shell.execute_reply.started": "2021-12-27T01:13:17.733076Z"
    },
    "papermill": {
     "duration": 0.053734,
     "end_time": "2021-12-27T01:21:49.478853",
     "exception": false,
     "start_time": "2021-12-27T01:21:49.425119",
     "status": "completed"
    },
    "tags": []
   },
   "outputs": [
    {
     "data": {
      "text/plain": [
       "Id                0.000000\n",
       "MSSubClass        1.376165\n",
       "LotFrontage       1.356928\n",
       "LotArea          12.829025\n",
       "OverallQual       0.197212\n",
       "OverallCond       0.570605\n",
       "YearBuilt        -0.600114\n",
       "YearRemodAdd     -0.451252\n",
       "MasVnrArea        2.604367\n",
       "BsmtFinSF1        1.426150\n",
       "BsmtFinSF2        4.148275\n",
       "BsmtUnfSF         0.919824\n",
       "TotalBsmtSF       1.163352\n",
       "1stFlrSF          1.470360\n",
       "2ndFlrSF          0.862118\n",
       "LowQualFinSF     12.094977\n",
       "GrLivArea         1.270010\n",
       "BsmtFullBath      0.625153\n",
       "BsmtHalfBath      3.919230\n",
       "FullBath          0.167692\n",
       "HalfBath          0.694924\n",
       "BedroomAbvGr      0.326492\n",
       "KitchenAbvGr      4.304467\n",
       "TotRmsAbvGrd      0.758757\n",
       "Fireplaces        0.733872\n",
       "GarageYrBlt      -0.376776\n",
       "GarageCars       -0.217611\n",
       "GarageArea        0.240973\n",
       "WoodDeckSF        1.843380\n",
       "OpenPorchSF       2.536417\n",
       "EnclosedPorch     4.005950\n",
       "3SsnPorch        11.381914\n",
       "ScreenPorch       3.948723\n",
       "PoolArea         16.907017\n",
       "MiscVal          21.958480\n",
       "MoSold            0.195985\n",
       "YrSold            0.132467\n",
       "dtype: float64"
      ]
     },
     "execution_count": 15,
     "metadata": {},
     "output_type": "execute_result"
    }
   ],
   "source": [
    "finaldataset.skew(axis=0, numeric_only = True)"
   ]
  },
  {
   "cell_type": "markdown",
   "id": "e2f9b260",
   "metadata": {
    "papermill": {
     "duration": 0.037999,
     "end_time": "2021-12-27T01:21:49.555349",
     "exception": false,
     "start_time": "2021-12-27T01:21:49.517350",
     "status": "completed"
    },
    "tags": []
   },
   "source": [
    "**Normalizing Numerical Features**\n",
    "\n",
    "\n",
    "In addition to performing transformations on features that are highly skewed, it is often good practice to perform some type of scaling on numerical features. Applying a scaling to the data does not change the shape of each feature’s distribution; however, normalization ensures that each feature is treated equally when applying supervised learners. Note that once scaling is applied, observing the data in its raw form will no longer have the same original meaning"
   ]
  },
  {
   "cell_type": "code",
   "execution_count": 16,
   "id": "3282e0bb",
   "metadata": {
    "execution": {
     "iopub.execute_input": "2021-12-27T01:21:49.636159Z",
     "iopub.status.busy": "2021-12-27T01:21:49.635211Z",
     "iopub.status.idle": "2021-12-27T01:21:49.812284Z",
     "shell.execute_reply": "2021-12-27T01:21:49.811606Z",
     "shell.execute_reply.started": "2021-12-27T01:13:17.745331Z"
    },
    "papermill": {
     "duration": 0.218156,
     "end_time": "2021-12-27T01:21:49.812427",
     "exception": false,
     "start_time": "2021-12-27T01:21:49.594271",
     "status": "completed"
    },
    "tags": []
   },
   "outputs": [
    {
     "data": {
      "text/html": [
       "<div>\n",
       "<style scoped>\n",
       "    .dataframe tbody tr th:only-of-type {\n",
       "        vertical-align: middle;\n",
       "    }\n",
       "\n",
       "    .dataframe tbody tr th {\n",
       "        vertical-align: top;\n",
       "    }\n",
       "\n",
       "    .dataframe thead th {\n",
       "        text-align: right;\n",
       "    }\n",
       "</style>\n",
       "<table border=\"1\" class=\"dataframe\">\n",
       "  <thead>\n",
       "    <tr style=\"text-align: right;\">\n",
       "      <th></th>\n",
       "      <th>Id</th>\n",
       "      <th>MSSubClass</th>\n",
       "      <th>MSZoning</th>\n",
       "      <th>LotFrontage</th>\n",
       "      <th>LotArea</th>\n",
       "      <th>Street</th>\n",
       "      <th>Alley</th>\n",
       "      <th>LotShape</th>\n",
       "      <th>LandContour</th>\n",
       "      <th>Utilities</th>\n",
       "      <th>...</th>\n",
       "      <th>PoolArea</th>\n",
       "      <th>PoolQC</th>\n",
       "      <th>Fence</th>\n",
       "      <th>MiscFeature</th>\n",
       "      <th>MiscVal</th>\n",
       "      <th>MoSold</th>\n",
       "      <th>YrSold</th>\n",
       "      <th>SaleType</th>\n",
       "      <th>SaleCondition</th>\n",
       "      <th>Type</th>\n",
       "    </tr>\n",
       "  </thead>\n",
       "  <tbody>\n",
       "    <tr>\n",
       "      <th>0</th>\n",
       "      <td>0.0</td>\n",
       "      <td>0.235294</td>\n",
       "      <td>RL</td>\n",
       "      <td>65.0</td>\n",
       "      <td>0.03342</td>\n",
       "      <td>Pave</td>\n",
       "      <td>Grvl</td>\n",
       "      <td>Reg</td>\n",
       "      <td>Lvl</td>\n",
       "      <td>AllPub</td>\n",
       "      <td>...</td>\n",
       "      <td>0.0</td>\n",
       "      <td>Ex</td>\n",
       "      <td>MnPrv</td>\n",
       "      <td>Shed</td>\n",
       "      <td>0.0</td>\n",
       "      <td>0.090909</td>\n",
       "      <td>0.5</td>\n",
       "      <td>WD</td>\n",
       "      <td>Normal</td>\n",
       "      <td>train</td>\n",
       "    </tr>\n",
       "  </tbody>\n",
       "</table>\n",
       "<p>1 rows × 81 columns</p>\n",
       "</div>"
      ],
      "text/plain": [
       "    Id  MSSubClass MSZoning  LotFrontage  LotArea Street Alley LotShape  \\\n",
       "0  0.0    0.235294       RL         65.0  0.03342   Pave  Grvl      Reg   \n",
       "\n",
       "  LandContour Utilities  ... PoolArea PoolQC  Fence MiscFeature MiscVal  \\\n",
       "0         Lvl    AllPub  ...      0.0     Ex  MnPrv        Shed     0.0   \n",
       "\n",
       "     MoSold YrSold  SaleType  SaleCondition   Type  \n",
       "0  0.090909    0.5        WD         Normal  train  \n",
       "\n",
       "[1 rows x 81 columns]"
      ]
     },
     "metadata": {},
     "output_type": "display_data"
    }
   ],
   "source": [
    "# Import sklearn.preprocessing.StandardScaler\n",
    "from sklearn.preprocessing import MinMaxScaler\n",
    "\n",
    "# Initialize a scaler, then apply it to the features\n",
    "scaler = MinMaxScaler()\n",
    "int_columns = finaldataset.columns[finaldataset.dtypes=='int']\n",
    "finaldataset[int_columns] = scaler.fit_transform(finaldataset[int_columns])\n",
    "\n",
    "# Show an example of a record with scaling applied\n",
    "display(finaldataset.head(n = 1))"
   ]
  },
  {
   "cell_type": "markdown",
   "id": "d2fde302",
   "metadata": {
    "papermill": {
     "duration": 0.039689,
     "end_time": "2021-12-27T01:21:49.892311",
     "exception": false,
     "start_time": "2021-12-27T01:21:49.852622",
     "status": "completed"
    },
    "tags": []
   },
   "source": [
    "**Data Preprocessing**"
   ]
  },
  {
   "cell_type": "code",
   "execution_count": 17,
   "id": "a1fb3a8f",
   "metadata": {
    "execution": {
     "iopub.execute_input": "2021-12-27T01:21:49.980597Z",
     "iopub.status.busy": "2021-12-27T01:21:49.979927Z",
     "iopub.status.idle": "2021-12-27T01:21:50.031563Z",
     "shell.execute_reply": "2021-12-27T01:21:50.030973Z",
     "shell.execute_reply.started": "2021-12-27T01:13:17.902688Z"
    },
    "papermill": {
     "duration": 0.099764,
     "end_time": "2021-12-27T01:21:50.031726",
     "exception": false,
     "start_time": "2021-12-27T01:21:49.931962",
     "status": "completed"
    },
    "tags": []
   },
   "outputs": [
    {
     "data": {
      "text/html": [
       "<div>\n",
       "<style scoped>\n",
       "    .dataframe tbody tr th:only-of-type {\n",
       "        vertical-align: middle;\n",
       "    }\n",
       "\n",
       "    .dataframe tbody tr th {\n",
       "        vertical-align: top;\n",
       "    }\n",
       "\n",
       "    .dataframe thead th {\n",
       "        text-align: right;\n",
       "    }\n",
       "</style>\n",
       "<table border=\"1\" class=\"dataframe\">\n",
       "  <thead>\n",
       "    <tr style=\"text-align: right;\">\n",
       "      <th></th>\n",
       "      <th>Id</th>\n",
       "      <th>MSSubClass</th>\n",
       "      <th>MSZoning</th>\n",
       "      <th>LotFrontage</th>\n",
       "      <th>LotArea</th>\n",
       "      <th>Street</th>\n",
       "      <th>Alley</th>\n",
       "      <th>LotShape</th>\n",
       "      <th>LandContour</th>\n",
       "      <th>Utilities</th>\n",
       "      <th>...</th>\n",
       "      <th>PoolArea</th>\n",
       "      <th>PoolQC</th>\n",
       "      <th>Fence</th>\n",
       "      <th>MiscFeature</th>\n",
       "      <th>MiscVal</th>\n",
       "      <th>MoSold</th>\n",
       "      <th>YrSold</th>\n",
       "      <th>SaleType</th>\n",
       "      <th>SaleCondition</th>\n",
       "      <th>Type</th>\n",
       "    </tr>\n",
       "  </thead>\n",
       "  <tbody>\n",
       "    <tr>\n",
       "      <th>0</th>\n",
       "      <td>0.000000</td>\n",
       "      <td>0.235294</td>\n",
       "      <td>RL</td>\n",
       "      <td>65.0</td>\n",
       "      <td>0.033420</td>\n",
       "      <td>Pave</td>\n",
       "      <td>Grvl</td>\n",
       "      <td>Reg</td>\n",
       "      <td>Lvl</td>\n",
       "      <td>AllPub</td>\n",
       "      <td>...</td>\n",
       "      <td>0.0</td>\n",
       "      <td>Ex</td>\n",
       "      <td>MnPrv</td>\n",
       "      <td>Shed</td>\n",
       "      <td>0.0</td>\n",
       "      <td>0.090909</td>\n",
       "      <td>0.50</td>\n",
       "      <td>WD</td>\n",
       "      <td>Normal</td>\n",
       "      <td>train</td>\n",
       "    </tr>\n",
       "    <tr>\n",
       "      <th>1</th>\n",
       "      <td>0.000343</td>\n",
       "      <td>0.000000</td>\n",
       "      <td>RL</td>\n",
       "      <td>80.0</td>\n",
       "      <td>0.038795</td>\n",
       "      <td>Pave</td>\n",
       "      <td>Grvl</td>\n",
       "      <td>Reg</td>\n",
       "      <td>Lvl</td>\n",
       "      <td>AllPub</td>\n",
       "      <td>...</td>\n",
       "      <td>0.0</td>\n",
       "      <td>Ex</td>\n",
       "      <td>MnPrv</td>\n",
       "      <td>Shed</td>\n",
       "      <td>0.0</td>\n",
       "      <td>0.363636</td>\n",
       "      <td>0.25</td>\n",
       "      <td>WD</td>\n",
       "      <td>Normal</td>\n",
       "      <td>train</td>\n",
       "    </tr>\n",
       "    <tr>\n",
       "      <th>2</th>\n",
       "      <td>0.000685</td>\n",
       "      <td>0.235294</td>\n",
       "      <td>RL</td>\n",
       "      <td>68.0</td>\n",
       "      <td>0.046507</td>\n",
       "      <td>Pave</td>\n",
       "      <td>Grvl</td>\n",
       "      <td>IR1</td>\n",
       "      <td>Lvl</td>\n",
       "      <td>AllPub</td>\n",
       "      <td>...</td>\n",
       "      <td>0.0</td>\n",
       "      <td>Ex</td>\n",
       "      <td>MnPrv</td>\n",
       "      <td>Shed</td>\n",
       "      <td>0.0</td>\n",
       "      <td>0.727273</td>\n",
       "      <td>0.50</td>\n",
       "      <td>WD</td>\n",
       "      <td>Normal</td>\n",
       "      <td>train</td>\n",
       "    </tr>\n",
       "    <tr>\n",
       "      <th>3</th>\n",
       "      <td>0.001028</td>\n",
       "      <td>0.294118</td>\n",
       "      <td>RL</td>\n",
       "      <td>60.0</td>\n",
       "      <td>0.038561</td>\n",
       "      <td>Pave</td>\n",
       "      <td>Grvl</td>\n",
       "      <td>IR1</td>\n",
       "      <td>Lvl</td>\n",
       "      <td>AllPub</td>\n",
       "      <td>...</td>\n",
       "      <td>0.0</td>\n",
       "      <td>Ex</td>\n",
       "      <td>MnPrv</td>\n",
       "      <td>Shed</td>\n",
       "      <td>0.0</td>\n",
       "      <td>0.090909</td>\n",
       "      <td>0.00</td>\n",
       "      <td>WD</td>\n",
       "      <td>Abnorml</td>\n",
       "      <td>train</td>\n",
       "    </tr>\n",
       "    <tr>\n",
       "      <th>4</th>\n",
       "      <td>0.001371</td>\n",
       "      <td>0.235294</td>\n",
       "      <td>RL</td>\n",
       "      <td>84.0</td>\n",
       "      <td>0.060576</td>\n",
       "      <td>Pave</td>\n",
       "      <td>Grvl</td>\n",
       "      <td>IR1</td>\n",
       "      <td>Lvl</td>\n",
       "      <td>AllPub</td>\n",
       "      <td>...</td>\n",
       "      <td>0.0</td>\n",
       "      <td>Ex</td>\n",
       "      <td>MnPrv</td>\n",
       "      <td>Shed</td>\n",
       "      <td>0.0</td>\n",
       "      <td>1.000000</td>\n",
       "      <td>0.50</td>\n",
       "      <td>WD</td>\n",
       "      <td>Normal</td>\n",
       "      <td>train</td>\n",
       "    </tr>\n",
       "  </tbody>\n",
       "</table>\n",
       "<p>5 rows × 80 columns</p>\n",
       "</div>"
      ],
      "text/plain": [
       "         Id  MSSubClass MSZoning  LotFrontage   LotArea Street Alley LotShape  \\\n",
       "0  0.000000    0.235294       RL         65.0  0.033420   Pave  Grvl      Reg   \n",
       "1  0.000343    0.000000       RL         80.0  0.038795   Pave  Grvl      Reg   \n",
       "2  0.000685    0.235294       RL         68.0  0.046507   Pave  Grvl      IR1   \n",
       "3  0.001028    0.294118       RL         60.0  0.038561   Pave  Grvl      IR1   \n",
       "4  0.001371    0.235294       RL         84.0  0.060576   Pave  Grvl      IR1   \n",
       "\n",
       "  LandContour Utilities  ... PoolArea PoolQC  Fence MiscFeature MiscVal  \\\n",
       "0         Lvl    AllPub  ...      0.0     Ex  MnPrv        Shed     0.0   \n",
       "1         Lvl    AllPub  ...      0.0     Ex  MnPrv        Shed     0.0   \n",
       "2         Lvl    AllPub  ...      0.0     Ex  MnPrv        Shed     0.0   \n",
       "3         Lvl    AllPub  ...      0.0     Ex  MnPrv        Shed     0.0   \n",
       "4         Lvl    AllPub  ...      0.0     Ex  MnPrv        Shed     0.0   \n",
       "\n",
       "     MoSold YrSold  SaleType  SaleCondition   Type  \n",
       "0  0.090909   0.50        WD         Normal  train  \n",
       "1  0.363636   0.25        WD         Normal  train  \n",
       "2  0.727273   0.50        WD         Normal  train  \n",
       "3  0.090909   0.00        WD        Abnorml  train  \n",
       "4  1.000000   0.50        WD         Normal  train  \n",
       "\n",
       "[5 rows x 80 columns]"
      ]
     },
     "execution_count": 17,
     "metadata": {},
     "output_type": "execute_result"
    }
   ],
   "source": [
    "# Create correlation matrix\n",
    "corr_matrix = finaldataset.corr().abs()\n",
    "\n",
    "# Select upper triangle of correlation matrix\n",
    "upper = corr_matrix.where(np.triu(np.ones(corr_matrix.shape), k=1).astype(np.bool))\n",
    "\n",
    "# Find features with correlation greater than 0.95\n",
    "to_drop = [column for column in upper.columns if any(upper[column] > 0.85)]\n",
    "\n",
    "# Drop features \n",
    "finaldataset.drop(to_drop, axis=1, inplace=True)\n",
    "\n",
    "finaldataset.head()"
   ]
  },
  {
   "cell_type": "markdown",
   "id": "b04d3f1e",
   "metadata": {
    "papermill": {
     "duration": 0.04004,
     "end_time": "2021-12-27T01:21:50.112531",
     "exception": false,
     "start_time": "2021-12-27T01:21:50.072491",
     "status": "completed"
    },
    "tags": []
   },
   "source": [
    "We can see there are several features for each record that are non-numeric. Typically, learning algorithms expect input to be numeric, which requires that non-numeric features (called categorical variables) be converted. One popular way to convert categorical variables is by using the one-hot encoding scheme. One-hot encoding creates a “dummy” variable for each possible category of each non-numeric feature.\n",
    "\n",
    "Label Encoding is a popular encoding technique for handling categorical variables. In this technique, each label is assigned a unique integer based on alphabetical ordering.\n",
    "\n",
    "We apply One-Hot Encoding when: The categorical feature is not ordinal or the number of categorical features is less so one-hot encoding can be effectively applied\n",
    "We apply Label Encoding when: The categorical feature is ordinal (like Jr. kg, Sr. kg, Primary school, high school) or the number of categories is quite large as one-hot encoding can lead to high memory consumption"
   ]
  },
  {
   "cell_type": "markdown",
   "id": "eecdb183",
   "metadata": {
    "papermill": {
     "duration": 0.040833,
     "end_time": "2021-12-27T01:21:50.193934",
     "exception": false,
     "start_time": "2021-12-27T01:21:50.153101",
     "status": "completed"
    },
    "tags": []
   },
   "source": [
    "**Label Encoding the Categorical variables**"
   ]
  },
  {
   "cell_type": "code",
   "execution_count": 18,
   "id": "e465f474",
   "metadata": {
    "execution": {
     "iopub.execute_input": "2021-12-27T01:21:50.281073Z",
     "iopub.status.busy": "2021-12-27T01:21:50.280088Z",
     "iopub.status.idle": "2021-12-27T01:21:50.371361Z",
     "shell.execute_reply": "2021-12-27T01:21:50.370655Z",
     "shell.execute_reply.started": "2021-12-27T01:13:17.955073Z"
    },
    "papermill": {
     "duration": 0.135466,
     "end_time": "2021-12-27T01:21:50.371515",
     "exception": false,
     "start_time": "2021-12-27T01:21:50.236049",
     "status": "completed"
    },
    "tags": []
   },
   "outputs": [
    {
     "name": "stdout",
     "output_type": "stream",
     "text": [
      "         Id  MSSubClass  MSZoning  LotFrontage   LotArea  Street  Alley  \\\n",
      "0  0.000000    0.235294         3         65.0  0.033420       1      0   \n",
      "1  0.000343    0.000000         3         80.0  0.038795       1      0   \n",
      "2  0.000685    0.235294         3         68.0  0.046507       1      0   \n",
      "3  0.001028    0.294118         3         60.0  0.038561       1      0   \n",
      "4  0.001371    0.235294         3         84.0  0.060576       1      0   \n",
      "\n",
      "   LotShape  LandContour  Utilities  ...  PoolArea  PoolQC  Fence  \\\n",
      "0         3            3          0  ...       0.0       0      2   \n",
      "1         3            3          0  ...       0.0       0      2   \n",
      "2         0            3          0  ...       0.0       0      2   \n",
      "3         0            3          0  ...       0.0       0      2   \n",
      "4         0            3          0  ...       0.0       0      2   \n",
      "\n",
      "   MiscFeature  MiscVal    MoSold  YrSold  SaleType  SaleCondition  Type  \n",
      "0            2      0.0  0.090909    0.50         8              4     1  \n",
      "1            2      0.0  0.363636    0.25         8              4     1  \n",
      "2            2      0.0  0.727273    0.50         8              4     1  \n",
      "3            2      0.0  0.090909    0.00         8              0     1  \n",
      "4            2      0.0  1.000000    0.50         8              4     1  \n",
      "\n",
      "[5 rows x 80 columns]\n"
     ]
    }
   ],
   "source": [
    "object_columns = finaldataset[finaldataset.columns[finaldataset.dtypes=='object']]\n",
    "# Import label encoder \n",
    "from sklearn import preprocessing\n",
    "# label_encoder object knows how to understand word labels. \n",
    "label_encoder = preprocessing.LabelEncoder()\n",
    "# Encode labels \n",
    "for i in object_columns:\n",
    "    finaldataset[i]= label_encoder.fit_transform(finaldataset[i].values) \n",
    "print(finaldataset.head())"
   ]
  },
  {
   "cell_type": "code",
   "execution_count": 19,
   "id": "a17dcebb",
   "metadata": {
    "execution": {
     "iopub.execute_input": "2021-12-27T01:21:50.459476Z",
     "iopub.status.busy": "2021-12-27T01:21:50.458853Z",
     "iopub.status.idle": "2021-12-27T01:21:50.469970Z",
     "shell.execute_reply": "2021-12-27T01:21:50.470501Z",
     "shell.execute_reply.started": "2021-12-27T01:13:18.043384Z"
    },
    "papermill": {
     "duration": 0.058983,
     "end_time": "2021-12-27T01:21:50.470682",
     "exception": false,
     "start_time": "2021-12-27T01:21:50.411699",
     "status": "completed"
    },
    "tags": []
   },
   "outputs": [],
   "source": [
    "#Splitting the data into train and test data\n",
    "traindata_updated_ = finaldataset[finaldataset.Type==1]\n",
    "traindata_updated_ = traindata_updated_.drop([\"Type\"], axis=1)\n",
    "testdata_ = finaldataset[finaldataset.Type==0]\n",
    "testdata_ = testdata_.drop([\"Type\"], axis=1)"
   ]
  },
  {
   "cell_type": "code",
   "execution_count": 20,
   "id": "b3028ac9",
   "metadata": {
    "execution": {
     "iopub.execute_input": "2021-12-27T01:21:50.554441Z",
     "iopub.status.busy": "2021-12-27T01:21:50.553699Z",
     "iopub.status.idle": "2021-12-27T01:21:50.559506Z",
     "shell.execute_reply": "2021-12-27T01:21:50.560157Z",
     "shell.execute_reply.started": "2021-12-27T01:13:18.057971Z"
    },
    "papermill": {
     "duration": 0.049742,
     "end_time": "2021-12-27T01:21:50.560329",
     "exception": false,
     "start_time": "2021-12-27T01:21:50.510587",
     "status": "completed"
    },
    "tags": []
   },
   "outputs": [
    {
     "data": {
      "text/plain": [
       "((1460,), (1460, 79), (1459, 79))"
      ]
     },
     "execution_count": 20,
     "metadata": {},
     "output_type": "execute_result"
    }
   ],
   "source": [
    "SalePriceCheck.shape, traindata_updated_.shape, testdata_.shape"
   ]
  },
  {
   "cell_type": "markdown",
   "id": "0c5ad052",
   "metadata": {
    "papermill": {
     "duration": 0.039887,
     "end_time": "2021-12-27T01:21:50.640649",
     "exception": false,
     "start_time": "2021-12-27T01:21:50.600762",
     "status": "completed"
    },
    "tags": []
   },
   "source": [
    "**Data Visualization**"
   ]
  },
  {
   "cell_type": "code",
   "execution_count": 21,
   "id": "fd9ee55f",
   "metadata": {
    "execution": {
     "iopub.execute_input": "2021-12-27T01:21:50.724896Z",
     "iopub.status.busy": "2021-12-27T01:21:50.724224Z",
     "iopub.status.idle": "2021-12-27T01:21:53.269463Z",
     "shell.execute_reply": "2021-12-27T01:21:53.270008Z",
     "shell.execute_reply.started": "2021-12-27T01:13:18.066692Z"
    },
    "papermill": {
     "duration": 2.589519,
     "end_time": "2021-12-27T01:21:53.270213",
     "exception": false,
     "start_time": "2021-12-27T01:21:50.680694",
     "status": "completed"
    },
    "tags": []
   },
   "outputs": [
    {
     "data": {
      "image/png": "[encoded data removed]",
      "text/plain": [
       "<Figure size 540x540 with 12 Axes>"
      ]
     },
     "metadata": {},
     "output_type": "display_data"
    }
   ],
   "source": [
    "sns.set()\n",
    "cols = ['OverallQual', 'TotalBsmtSF', 'YearBuilt']\n",
    "sns.pairplot(traindata_updated_[cols], height = 2.5)\n",
    "plt.show();"
   ]
  },
  {
   "cell_type": "code",
   "execution_count": 22,
   "id": "ae5c60f0",
   "metadata": {
    "execution": {
     "iopub.execute_input": "2021-12-27T01:21:53.368398Z",
     "iopub.status.busy": "2021-12-27T01:21:53.367520Z",
     "iopub.status.idle": "2021-12-27T01:21:54.719252Z",
     "shell.execute_reply": "2021-12-27T01:21:54.719771Z",
     "shell.execute_reply.started": "2021-12-27T01:13:20.384591Z"
    },
    "papermill": {
     "duration": 1.404505,
     "end_time": "2021-12-27T01:21:54.719990",
     "exception": false,
     "start_time": "2021-12-27T01:21:53.315485",
     "status": "completed"
    },
    "tags": []
   },
   "outputs": [
    {
     "data": {
      "image/png": "[encoded data removed]",
      "text/plain": [
       "<Figure size 1080x648 with 2 Axes>"
      ]
     },
     "metadata": {},
     "output_type": "display_data"
    }
   ],
   "source": [
    "#Correlation matrix\n",
    "\n",
    "corrmatrix = traindata_updated_.corr()\n",
    "f, ax = plt.subplots(figsize=(15, 9))\n",
    "sns.heatmap(corrmatrix, vmax=.8, square=True);"
   ]
  },
  {
   "cell_type": "markdown",
   "id": "591fb3be",
   "metadata": {
    "papermill": {
     "duration": 0.047423,
     "end_time": "2021-12-27T01:21:54.815078",
     "exception": false,
     "start_time": "2021-12-27T01:21:54.767655",
     "status": "completed"
    },
    "tags": []
   },
   "source": [
    "**Shuffle and Split Data**\n",
    "\n",
    "\n",
    "Now all categorical variables have been converted into numerical features, and all numerical features have been normalized. As always, we will now split the data (both features and their labels) into training and test sets. 80% of the data will be used for training and 20% for testing."
   ]
  },
  {
   "cell_type": "code",
   "execution_count": 23,
   "id": "ba40e39e",
   "metadata": {
    "execution": {
     "iopub.execute_input": "2021-12-27T01:21:54.914297Z",
     "iopub.status.busy": "2021-12-27T01:21:54.913601Z",
     "iopub.status.idle": "2021-12-27T01:21:54.979648Z",
     "shell.execute_reply": "2021-12-27T01:21:54.978282Z",
     "shell.execute_reply.started": "2021-12-27T01:13:21.64571Z"
    },
    "papermill": {
     "duration": 0.117275,
     "end_time": "2021-12-27T01:21:54.979897",
     "exception": false,
     "start_time": "2021-12-27T01:21:54.862622",
     "status": "completed"
    },
    "tags": []
   },
   "outputs": [],
   "source": [
    "# Import train_test_split\n",
    "from sklearn.model_selection import train_test_split\n",
    "\n",
    "# Split the 'features' and 'SalePrice' data into training and testing sets\n",
    "X_train, X_test, y_train, y_test = train_test_split(traindata_updated_, SalePriceCheck, test_size = 0.2, random_state = 0)"
   ]
  },
  {
   "cell_type": "markdown",
   "id": "62c873ec",
   "metadata": {
    "papermill": {
     "duration": 0.048488,
     "end_time": "2021-12-27T01:21:55.078122",
     "exception": false,
     "start_time": "2021-12-27T01:21:55.029634",
     "status": "completed"
    },
    "tags": []
   },
   "source": [
    "**Evaluating Model Performance**\n",
    "\n",
    "\n",
    "In this section, we will investigate four different algorithms, and determine which is best at modeling the data.\n",
    "\n",
    "1. Random Forest\n",
    "2. Decision Tree\n",
    "3. Lasso"
   ]
  },
  {
   "cell_type": "code",
   "execution_count": 24,
   "id": "5d7af496",
   "metadata": {
    "execution": {
     "iopub.execute_input": "2021-12-27T01:21:55.182602Z",
     "iopub.status.busy": "2021-12-27T01:21:55.181889Z",
     "iopub.status.idle": "2021-12-27T01:21:55.390646Z",
     "shell.execute_reply": "2021-12-27T01:21:55.389869Z",
     "shell.execute_reply.started": "2021-12-27T01:13:21.702137Z"
    },
    "papermill": {
     "duration": 0.263852,
     "end_time": "2021-12-27T01:21:55.390870",
     "exception": false,
     "start_time": "2021-12-27T01:21:55.127018",
     "status": "completed"
    },
    "tags": []
   },
   "outputs": [],
   "source": [
    "from sklearn.ensemble import RandomForestRegressor\n",
    "randomforestmodel = RandomForestRegressor(n_estimators=500, n_jobs=1, random_state=101)\n",
    "#randomforestmodel.fit(X_train,y_train)\n",
    "from sklearn.tree import DecisionTreeRegressor\n",
    "decisiontreemodel = DecisionTreeRegressor(random_state = 101)\n",
    "#decisiontreemodel.fit(X_train,y_train)\n",
    "from sklearn.linear_model import Lasso\n",
    "lassomodel = Lasso(alpha=0.0005)\n",
    "#lassomodel.fit(X_train,y_train)"
   ]
  },
  {
   "cell_type": "markdown",
   "id": "e311e17f",
   "metadata": {
    "papermill": {
     "duration": 0.04766,
     "end_time": "2021-12-27T01:21:55.488273",
     "exception": false,
     "start_time": "2021-12-27T01:21:55.440613",
     "status": "completed"
    },
    "tags": []
   },
   "source": [
    "To properly evaluate the performance of each model we’ve chosen, it’s important that you create a training and predicting pipeline that allows you to quickly and effectively train models using various sizes of training data and perform predictions on the testing data."
   ]
  },
  {
   "cell_type": "code",
   "execution_count": 25,
   "id": "8d4d8f24",
   "metadata": {
    "execution": {
     "iopub.execute_input": "2021-12-27T01:21:55.594249Z",
     "iopub.status.busy": "2021-12-27T01:21:55.593179Z",
     "iopub.status.idle": "2021-12-27T01:21:55.595883Z",
     "shell.execute_reply": "2021-12-27T01:21:55.596375Z",
     "shell.execute_reply.started": "2021-12-27T01:13:21.878162Z"
    },
    "papermill": {
     "duration": 0.059955,
     "end_time": "2021-12-27T01:21:55.596590",
     "exception": false,
     "start_time": "2021-12-27T01:21:55.536635",
     "status": "completed"
    },
    "tags": []
   },
   "outputs": [],
   "source": [
    "# TODO: Import two metrics from sklearn - fbeta_score and accuracy_score\n",
    "\n",
    "from sklearn.metrics import mean_squared_error\n",
    "from math import sqrt\n",
    "\n",
    "def train_predict(learner, sample_size, X_train, y_train, X_test, y_test): \n",
    "    '''\n",
    "    inputs:\n",
    "       - learner: the learning algorithm to be trained and predicted on\n",
    "       - sample_size: the size of samples (number) to be drawn from training set\n",
    "       - X_train: features training set\n",
    "       - y_train: SalePrice training set\n",
    "       - X_test: features testing set\n",
    "       - y_test: SalePrice testing set\n",
    "    '''\n",
    "    \n",
    "    results = {}\n",
    "    \n",
    "    # TODO: Fit the learner to the training data using slicing with 'sample_size'\n",
    "    learner = learner.fit(X_train[:sample_size],y_train[:sample_size])\n",
    "\n",
    "            \n",
    "    # TODO: Compute RMSE on test set\n",
    "    results['Score'] = learner.score(X_test,y_test)\n",
    "        \n",
    "       \n",
    "    # Success\n",
    "    print (\"{} trained on {} samples.\".format(learner.__class__.__name__, sample_size))\n",
    "        \n",
    "    # Return the results\n",
    "    return results"
   ]
  },
  {
   "cell_type": "code",
   "execution_count": 26,
   "id": "cfa38170",
   "metadata": {
    "execution": {
     "iopub.execute_input": "2021-12-27T01:21:55.703309Z",
     "iopub.status.busy": "2021-12-27T01:21:55.702567Z",
     "iopub.status.idle": "2021-12-27T01:22:08.261963Z",
     "shell.execute_reply": "2021-12-27T01:22:08.263015Z",
     "shell.execute_reply.started": "2021-12-27T01:13:21.886137Z"
    },
    "papermill": {
     "duration": 12.61831,
     "end_time": "2021-12-27T01:22:08.263312",
     "exception": false,
     "start_time": "2021-12-27T01:21:55.645002",
     "status": "completed"
    },
    "tags": []
   },
   "outputs": [
    {
     "name": "stdout",
     "output_type": "stream",
     "text": [
      "RandomForestRegressor trained on 12 samples.\n",
      "RandomForestRegressor trained on 117 samples.\n",
      "RandomForestRegressor trained on 1168 samples.\n",
      "DecisionTreeRegressor trained on 12 samples.\n",
      "DecisionTreeRegressor trained on 117 samples.\n",
      "DecisionTreeRegressor trained on 1168 samples.\n",
      "Lasso trained on 12 samples.\n",
      "Lasso trained on 117 samples.\n",
      "Lasso trained on 1168 samples.\n",
      "RandomForestRegressor\n"
     ]
    },
    {
     "data": {
      "text/html": [
       "<div>\n",
       "<style scoped>\n",
       "    .dataframe tbody tr th:only-of-type {\n",
       "        vertical-align: middle;\n",
       "    }\n",
       "\n",
       "    .dataframe tbody tr th {\n",
       "        vertical-align: top;\n",
       "    }\n",
       "\n",
       "    .dataframe thead th {\n",
       "        text-align: right;\n",
       "    }\n",
       "</style>\n",
       "<table border=\"1\" class=\"dataframe\">\n",
       "  <thead>\n",
       "    <tr style=\"text-align: right;\">\n",
       "      <th></th>\n",
       "      <th>1%</th>\n",
       "      <th>10%</th>\n",
       "      <th>100%</th>\n",
       "    </tr>\n",
       "  </thead>\n",
       "  <tbody>\n",
       "    <tr>\n",
       "      <th>Score</th>\n",
       "      <td>0.476022</td>\n",
       "      <td>0.75124</td>\n",
       "      <td>0.842443</td>\n",
       "    </tr>\n",
       "  </tbody>\n",
       "</table>\n",
       "</div>"
      ],
      "text/plain": [
       "             1%      10%      100%\n",
       "Score  0.476022  0.75124  0.842443"
      ]
     },
     "metadata": {},
     "output_type": "display_data"
    },
    {
     "name": "stdout",
     "output_type": "stream",
     "text": [
      "DecisionTreeRegressor\n"
     ]
    },
    {
     "data": {
      "text/html": [
       "<div>\n",
       "<style scoped>\n",
       "    .dataframe tbody tr th:only-of-type {\n",
       "        vertical-align: middle;\n",
       "    }\n",
       "\n",
       "    .dataframe tbody tr th {\n",
       "        vertical-align: top;\n",
       "    }\n",
       "\n",
       "    .dataframe thead th {\n",
       "        text-align: right;\n",
       "    }\n",
       "</style>\n",
       "<table border=\"1\" class=\"dataframe\">\n",
       "  <thead>\n",
       "    <tr style=\"text-align: right;\">\n",
       "      <th></th>\n",
       "      <th>1%</th>\n",
       "      <th>10%</th>\n",
       "      <th>100%</th>\n",
       "    </tr>\n",
       "  </thead>\n",
       "  <tbody>\n",
       "    <tr>\n",
       "      <th>Score</th>\n",
       "      <td>0.378821</td>\n",
       "      <td>0.612736</td>\n",
       "      <td>0.748351</td>\n",
       "    </tr>\n",
       "  </tbody>\n",
       "</table>\n",
       "</div>"
      ],
      "text/plain": [
       "             1%       10%      100%\n",
       "Score  0.378821  0.612736  0.748351"
      ]
     },
     "metadata": {},
     "output_type": "display_data"
    },
    {
     "name": "stdout",
     "output_type": "stream",
     "text": [
      "Lasso\n"
     ]
    },
    {
     "data": {
      "text/html": [
       "<div>\n",
       "<style scoped>\n",
       "    .dataframe tbody tr th:only-of-type {\n",
       "        vertical-align: middle;\n",
       "    }\n",
       "\n",
       "    .dataframe tbody tr th {\n",
       "        vertical-align: top;\n",
       "    }\n",
       "\n",
       "    .dataframe thead th {\n",
       "        text-align: right;\n",
       "    }\n",
       "</style>\n",
       "<table border=\"1\" class=\"dataframe\">\n",
       "  <thead>\n",
       "    <tr style=\"text-align: right;\">\n",
       "      <th></th>\n",
       "      <th>1%</th>\n",
       "      <th>10%</th>\n",
       "      <th>100%</th>\n",
       "    </tr>\n",
       "  </thead>\n",
       "  <tbody>\n",
       "    <tr>\n",
       "      <th>Score</th>\n",
       "      <td>-0.231241</td>\n",
       "      <td>0.320644</td>\n",
       "      <td>0.588998</td>\n",
       "    </tr>\n",
       "  </tbody>\n",
       "</table>\n",
       "</div>"
      ],
      "text/plain": [
       "             1%       10%      100%\n",
       "Score -0.231241  0.320644  0.588998"
      ]
     },
     "metadata": {},
     "output_type": "display_data"
    }
   ],
   "source": [
    "# TODO: Calculate the number of samples for 1%, 10%, and 100% of the training data\n",
    "samples_1 = int(round(len(X_train) / 100))\n",
    "samples_10 = int(round(len(X_train) / 10))\n",
    "samples_100 = len(X_train)\n",
    "\n",
    "# Collect results on the learners\n",
    "results = {}\n",
    "for clf in [randomforestmodel, decisiontreemodel, lassomodel]:\n",
    "    clf_name = clf.__class__.__name__\n",
    "    results[clf_name] = {}\n",
    "    for i, samples in enumerate([samples_1, samples_10, samples_100]):\n",
    "        results[clf_name][i] = \\\n",
    "        train_predict(clf, samples, X_train, y_train, X_test, y_test)\n",
    "\n",
    "# Run metrics visualization for the three supervised learning models chosen\n",
    "#Printing out the values\n",
    "for i in results.items():\n",
    "    print (i[0])\n",
    "    display(pd.DataFrame(i[1]).rename(columns={0:'1%', 1:'10%', 2:'100%'}))"
   ]
  },
  {
   "cell_type": "markdown",
   "id": "e7e85cf9",
   "metadata": {
    "papermill": {
     "duration": 0.054654,
     "end_time": "2021-12-27T01:22:08.404173",
     "exception": false,
     "start_time": "2021-12-27T01:22:08.349519",
     "status": "completed"
    },
    "tags": []
   },
   "source": [
    "Looking at the results above, we should go ahead with RandomForestRegressor"
   ]
  },
  {
   "cell_type": "code",
   "execution_count": 27,
   "id": "7dad0bb9",
   "metadata": {
    "execution": {
     "iopub.execute_input": "2021-12-27T01:22:08.516393Z",
     "iopub.status.busy": "2021-12-27T01:22:08.515370Z",
     "iopub.status.idle": "2021-12-27T01:22:18.485461Z",
     "shell.execute_reply": "2021-12-27T01:22:18.485961Z",
     "shell.execute_reply.started": "2021-12-27T01:13:33.947719Z"
    },
    "papermill": {
     "duration": 10.029941,
     "end_time": "2021-12-27T01:22:18.486161",
     "exception": false,
     "start_time": "2021-12-27T01:22:08.456220",
     "status": "completed"
    },
    "tags": []
   },
   "outputs": [],
   "source": [
    "# TODO: Get the predictions on the test set,\n",
    "randomforestmodel.fit(X_train,y_train)\n",
    "predictions = randomforestmodel.predict(testdata_)"
   ]
  },
  {
   "cell_type": "code",
   "execution_count": 28,
   "id": "100ff14f",
   "metadata": {
    "execution": {
     "iopub.execute_input": "2021-12-27T01:22:18.590331Z",
     "iopub.status.busy": "2021-12-27T01:22:18.589658Z",
     "iopub.status.idle": "2021-12-27T01:22:18.596208Z",
     "shell.execute_reply": "2021-12-27T01:22:18.596724Z",
     "shell.execute_reply.started": "2021-12-27T01:13:43.633237Z"
    },
    "papermill": {
     "duration": 0.060306,
     "end_time": "2021-12-27T01:22:18.596912",
     "exception": false,
     "start_time": "2021-12-27T01:22:18.536606",
     "status": "completed"
    },
    "tags": []
   },
   "outputs": [],
   "source": [
    "submission = pd.DataFrame()\n",
    "submission['Id'] = testdata[\"Id\"]\n",
    "submission['SalePrice']= predictions"
   ]
  },
  {
   "cell_type": "code",
   "execution_count": 29,
   "id": "df5a8fa7",
   "metadata": {
    "execution": {
     "iopub.execute_input": "2021-12-27T01:22:18.704123Z",
     "iopub.status.busy": "2021-12-27T01:22:18.703393Z",
     "iopub.status.idle": "2021-12-27T01:22:18.715521Z",
     "shell.execute_reply": "2021-12-27T01:22:18.716033Z",
     "shell.execute_reply.started": "2021-12-27T01:13:50.415954Z"
    },
    "papermill": {
     "duration": 0.067653,
     "end_time": "2021-12-27T01:22:18.716246",
     "exception": false,
     "start_time": "2021-12-27T01:22:18.648593",
     "status": "completed"
    },
    "tags": []
   },
   "outputs": [],
   "source": [
    "submission.to_csv(\"submission.csv\", index=False)"
   ]
  }
 ],
 "metadata": {
  "kernelspec": {
   "display_name": "Python 3",
   "language": "python",
   "name": "python3"
  },
  "language_info": {
   "codemirror_mode": {
    "name": "ipython",
    "version": 3
   },
   "file_extension": ".py",
   "mimetype": "text/x-python",
   "name": "python",
   "nbconvert_exporter": "python",
   "pygments_lexer": "ipython3",
   "version": "3.7.12"
  },
  "papermill": {
   "default_parameters": {},
   "duration": 45.28417,
   "end_time": "2021-12-27T01:22:19.782433",
   "environment_variables": {},
   "exception": null,
   "input_path": "__notebook__.ipynb",
   "output_path": "__notebook__.ipynb",
   "parameters": {},
   "start_time": "2021-12-27T01:21:34.498263",
   "version": "2.3.3"
  }
 },
 "nbformat": 4,
 "nbformat_minor": 5
}
